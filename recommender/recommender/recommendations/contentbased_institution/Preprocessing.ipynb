{
 "cells": [
  {
   "cell_type": "code",
   "id": "ad6563aa-4565-4875-9448-9a04a3ee6fbd",
   "metadata": {
    "ExecuteTime": {
     "end_time": "2025-03-14T09:10:46.552962Z",
     "start_time": "2025-03-14T09:10:42.553201Z"
    }
   },
   "source": [
    "import torch\n",
    "from sentence_transformers import SentenceTransformer\n",
    "import pandas as pd\n",
    "import json"
   ],
   "outputs": [],
   "execution_count": 1
  },
  {
   "cell_type": "markdown",
   "id": "a5c20ebf-0be8-41c1-8992-55ac0bf22397",
   "metadata": {},
   "source": [
    "## Load data Set"
   ]
  },
  {
   "cell_type": "code",
   "id": "4d5ff343-01b8-44df-bd6b-d348334a53f7",
   "metadata": {
    "ExecuteTime": {
     "end_time": "2025-03-14T09:10:46.653595Z",
     "start_time": "2025-03-14T09:10:46.555551Z"
    }
   },
   "source": "df = pd.read_csv(\"../DataSets/processed/institutions_content_based_data_after_eda.csv\",sep=\";\",header=0)",
   "outputs": [],
   "execution_count": 2
  },
  {
   "cell_type": "code",
   "id": "65fcfeee-d6e0-46ff-b128-8478c0637c4c",
   "metadata": {
    "ExecuteTime": {
     "end_time": "2025-03-14T09:10:46.666113Z",
     "start_time": "2025-03-14T09:10:46.654601Z"
    }
   },
   "source": [
    "df.head()"
   ],
   "outputs": [
    {
     "data": {
      "text/plain": [
       "   id                       institution_name institution_type       state  \\\n",
       "0   1      Annai Velakanni College For Women          private  Tamil Nadu   \n",
       "1   2         Alpha Arts And Science College          private  Tamil Nadu   \n",
       "2   3         Agurchand Manmull Jain College          private  Tamil Nadu   \n",
       "3   4          Anna Adarsh College For Women          private  Tamil Nadu   \n",
       "4   5  Annai Violet Arts and Science College          private  Tamil Nadu   \n",
       "\n",
       "  district                            all_course_descriptions  \\\n",
       "0  Chennai  Bachelor of Arts (BA) in English is a versatil...   \n",
       "1  Chennai  Bachelor of Business Administration (BBA) in B...   \n",
       "2  Chennai  Bachelor of Arts (BA) in Criminology and Polic...   \n",
       "3  Chennai  B.Com (Hons) program designed to provide stude...   \n",
       "4  Chennai  Bachelor of Arts (BA) in Economics offers stud...   \n",
       "\n",
       "                             all_degree_descriptions  \\\n",
       "0  Bachelor of Arts, Bachelor of Business Adminis...   \n",
       "1  Bachelor of Business Administration, Bachelor ...   \n",
       "2  Bachelor of Arts, Bachelor of Business Adminis...   \n",
       "3  Bachelor of Arts, Bachelor of Business Adminis...   \n",
       "4  Bachelor of Arts, Bachelor of Business Adminis...   \n",
       "\n",
       "             all_degree_names                              all_stream_names  \\\n",
       "0  B.A, B.Com, B.Sc, BBA, BCA           Arts, Commerce, Management, Science   \n",
       "1       B.Com, B.Sc, BBA, BCA  Biotechnology, Commerce, Management, Science   \n",
       "2  B.A, B.Com, B.Sc, BBA, BCA           Arts, Commerce, Management, Science   \n",
       "3  B.A, B.Com, B.Sc, BBA, BCA           Arts, Commerce, Management, Science   \n",
       "4  B.A, B.Com, B.Sc, BBA, BCA           Arts, Commerce, Management, Science   \n",
       "\n",
       "                                    all_course_names  \n",
       "0  Accounting and Finance, Biochemistry, Business...  \n",
       "1  Biotechnology, Business Administration, Comput...  \n",
       "2  Accounting and Finance, Banking Management, Bu...  \n",
       "3  Accounting and Finance, Banking Management, Bu...  \n",
       "4  Accounting and Finance, Biochemistry, Business...  "
      ],
      "text/html": [
       "<div>\n",
       "<style scoped>\n",
       "    .dataframe tbody tr th:only-of-type {\n",
       "        vertical-align: middle;\n",
       "    }\n",
       "\n",
       "    .dataframe tbody tr th {\n",
       "        vertical-align: top;\n",
       "    }\n",
       "\n",
       "    .dataframe thead th {\n",
       "        text-align: right;\n",
       "    }\n",
       "</style>\n",
       "<table border=\"1\" class=\"dataframe\">\n",
       "  <thead>\n",
       "    <tr style=\"text-align: right;\">\n",
       "      <th></th>\n",
       "      <th>id</th>\n",
       "      <th>institution_name</th>\n",
       "      <th>institution_type</th>\n",
       "      <th>state</th>\n",
       "      <th>district</th>\n",
       "      <th>all_course_descriptions</th>\n",
       "      <th>all_degree_descriptions</th>\n",
       "      <th>all_degree_names</th>\n",
       "      <th>all_stream_names</th>\n",
       "      <th>all_course_names</th>\n",
       "    </tr>\n",
       "  </thead>\n",
       "  <tbody>\n",
       "    <tr>\n",
       "      <th>0</th>\n",
       "      <td>1</td>\n",
       "      <td>Annai Velakanni College For Women</td>\n",
       "      <td>private</td>\n",
       "      <td>Tamil Nadu</td>\n",
       "      <td>Chennai</td>\n",
       "      <td>Bachelor of Arts (BA) in English is a versatil...</td>\n",
       "      <td>Bachelor of Arts, Bachelor of Business Adminis...</td>\n",
       "      <td>B.A, B.Com, B.Sc, BBA, BCA</td>\n",
       "      <td>Arts, Commerce, Management, Science</td>\n",
       "      <td>Accounting and Finance, Biochemistry, Business...</td>\n",
       "    </tr>\n",
       "    <tr>\n",
       "      <th>1</th>\n",
       "      <td>2</td>\n",
       "      <td>Alpha Arts And Science College</td>\n",
       "      <td>private</td>\n",
       "      <td>Tamil Nadu</td>\n",
       "      <td>Chennai</td>\n",
       "      <td>Bachelor of Business Administration (BBA) in B...</td>\n",
       "      <td>Bachelor of Business Administration, Bachelor ...</td>\n",
       "      <td>B.Com, B.Sc, BBA, BCA</td>\n",
       "      <td>Biotechnology, Commerce, Management, Science</td>\n",
       "      <td>Biotechnology, Business Administration, Comput...</td>\n",
       "    </tr>\n",
       "    <tr>\n",
       "      <th>2</th>\n",
       "      <td>3</td>\n",
       "      <td>Agurchand Manmull Jain College</td>\n",
       "      <td>private</td>\n",
       "      <td>Tamil Nadu</td>\n",
       "      <td>Chennai</td>\n",
       "      <td>Bachelor of Arts (BA) in Criminology and Polic...</td>\n",
       "      <td>Bachelor of Arts, Bachelor of Business Adminis...</td>\n",
       "      <td>B.A, B.Com, B.Sc, BBA, BCA</td>\n",
       "      <td>Arts, Commerce, Management, Science</td>\n",
       "      <td>Accounting and Finance, Banking Management, Bu...</td>\n",
       "    </tr>\n",
       "    <tr>\n",
       "      <th>3</th>\n",
       "      <td>4</td>\n",
       "      <td>Anna Adarsh College For Women</td>\n",
       "      <td>private</td>\n",
       "      <td>Tamil Nadu</td>\n",
       "      <td>Chennai</td>\n",
       "      <td>B.Com (Hons) program designed to provide stude...</td>\n",
       "      <td>Bachelor of Arts, Bachelor of Business Adminis...</td>\n",
       "      <td>B.A, B.Com, B.Sc, BBA, BCA</td>\n",
       "      <td>Arts, Commerce, Management, Science</td>\n",
       "      <td>Accounting and Finance, Banking Management, Bu...</td>\n",
       "    </tr>\n",
       "    <tr>\n",
       "      <th>4</th>\n",
       "      <td>5</td>\n",
       "      <td>Annai Violet Arts and Science College</td>\n",
       "      <td>private</td>\n",
       "      <td>Tamil Nadu</td>\n",
       "      <td>Chennai</td>\n",
       "      <td>Bachelor of Arts (BA) in Economics offers stud...</td>\n",
       "      <td>Bachelor of Arts, Bachelor of Business Adminis...</td>\n",
       "      <td>B.A, B.Com, B.Sc, BBA, BCA</td>\n",
       "      <td>Arts, Commerce, Management, Science</td>\n",
       "      <td>Accounting and Finance, Biochemistry, Business...</td>\n",
       "    </tr>\n",
       "  </tbody>\n",
       "</table>\n",
       "</div>"
      ]
     },
     "execution_count": 3,
     "metadata": {},
     "output_type": "execute_result"
    }
   ],
   "execution_count": 3
  },
  {
   "cell_type": "markdown",
   "id": "5a4ea99a-d9dc-4c4c-864a-787f814ae79a",
   "metadata": {},
   "source": [
    "## Load model for embedding"
   ]
  },
  {
   "cell_type": "code",
   "id": "4e73a323-bb7a-49e2-8d56-e18182cd4ff6",
   "metadata": {
    "ExecuteTime": {
     "end_time": "2025-03-14T09:10:50.772366Z",
     "start_time": "2025-03-14T09:10:46.667629Z"
    }
   },
   "source": [
    "model = SentenceTransformer(\"sentence-transformers/all-MiniLM-L6-v2\")"
   ],
   "outputs": [],
   "execution_count": 4
  },
  {
   "cell_type": "code",
   "id": "31981c6a-9b21-40c7-8584-424c89f99a0a",
   "metadata": {
    "ExecuteTime": {
     "end_time": "2025-03-14T09:10:50.797098Z",
     "start_time": "2025-03-14T09:10:50.774776Z"
    }
   },
   "source": [
    "df[\"combined_text\"] = df[\n",
    "    [\"institution_name\", \"institution_type\", \"state\", \"district\", \n",
    "     \"all_course_descriptions\", \"all_degree_descriptions\", \"all_degree_names\", \n",
    "     \"all_stream_names\", \"all_course_names\"]\n",
    "].astype(str).agg(\" \".join, axis=1)\n"
   ],
   "outputs": [],
   "execution_count": 5
  },
  {
   "cell_type": "code",
   "id": "5d8f2ddb-e591-4ff7-b645-737308bcef8b",
   "metadata": {
    "ExecuteTime": {
     "end_time": "2025-03-14T09:10:50.806360Z",
     "start_time": "2025-03-14T09:10:50.798197Z"
    }
   },
   "source": [
    "df.head()"
   ],
   "outputs": [
    {
     "data": {
      "text/plain": [
       "   id                       institution_name institution_type       state  \\\n",
       "0   1      Annai Velakanni College For Women          private  Tamil Nadu   \n",
       "1   2         Alpha Arts And Science College          private  Tamil Nadu   \n",
       "2   3         Agurchand Manmull Jain College          private  Tamil Nadu   \n",
       "3   4          Anna Adarsh College For Women          private  Tamil Nadu   \n",
       "4   5  Annai Violet Arts and Science College          private  Tamil Nadu   \n",
       "\n",
       "  district                            all_course_descriptions  \\\n",
       "0  Chennai  Bachelor of Arts (BA) in English is a versatil...   \n",
       "1  Chennai  Bachelor of Business Administration (BBA) in B...   \n",
       "2  Chennai  Bachelor of Arts (BA) in Criminology and Polic...   \n",
       "3  Chennai  B.Com (Hons) program designed to provide stude...   \n",
       "4  Chennai  Bachelor of Arts (BA) in Economics offers stud...   \n",
       "\n",
       "                             all_degree_descriptions  \\\n",
       "0  Bachelor of Arts, Bachelor of Business Adminis...   \n",
       "1  Bachelor of Business Administration, Bachelor ...   \n",
       "2  Bachelor of Arts, Bachelor of Business Adminis...   \n",
       "3  Bachelor of Arts, Bachelor of Business Adminis...   \n",
       "4  Bachelor of Arts, Bachelor of Business Adminis...   \n",
       "\n",
       "             all_degree_names                              all_stream_names  \\\n",
       "0  B.A, B.Com, B.Sc, BBA, BCA           Arts, Commerce, Management, Science   \n",
       "1       B.Com, B.Sc, BBA, BCA  Biotechnology, Commerce, Management, Science   \n",
       "2  B.A, B.Com, B.Sc, BBA, BCA           Arts, Commerce, Management, Science   \n",
       "3  B.A, B.Com, B.Sc, BBA, BCA           Arts, Commerce, Management, Science   \n",
       "4  B.A, B.Com, B.Sc, BBA, BCA           Arts, Commerce, Management, Science   \n",
       "\n",
       "                                    all_course_names  \\\n",
       "0  Accounting and Finance, Biochemistry, Business...   \n",
       "1  Biotechnology, Business Administration, Comput...   \n",
       "2  Accounting and Finance, Banking Management, Bu...   \n",
       "3  Accounting and Finance, Banking Management, Bu...   \n",
       "4  Accounting and Finance, Biochemistry, Business...   \n",
       "\n",
       "                                       combined_text  \n",
       "0  Annai Velakanni College For Women private Tami...  \n",
       "1  Alpha Arts And Science College private Tamil N...  \n",
       "2  Agurchand Manmull Jain College private Tamil N...  \n",
       "3  Anna Adarsh College For Women private Tamil Na...  \n",
       "4  Annai Violet Arts and Science College private ...  "
      ],
      "text/html": [
       "<div>\n",
       "<style scoped>\n",
       "    .dataframe tbody tr th:only-of-type {\n",
       "        vertical-align: middle;\n",
       "    }\n",
       "\n",
       "    .dataframe tbody tr th {\n",
       "        vertical-align: top;\n",
       "    }\n",
       "\n",
       "    .dataframe thead th {\n",
       "        text-align: right;\n",
       "    }\n",
       "</style>\n",
       "<table border=\"1\" class=\"dataframe\">\n",
       "  <thead>\n",
       "    <tr style=\"text-align: right;\">\n",
       "      <th></th>\n",
       "      <th>id</th>\n",
       "      <th>institution_name</th>\n",
       "      <th>institution_type</th>\n",
       "      <th>state</th>\n",
       "      <th>district</th>\n",
       "      <th>all_course_descriptions</th>\n",
       "      <th>all_degree_descriptions</th>\n",
       "      <th>all_degree_names</th>\n",
       "      <th>all_stream_names</th>\n",
       "      <th>all_course_names</th>\n",
       "      <th>combined_text</th>\n",
       "    </tr>\n",
       "  </thead>\n",
       "  <tbody>\n",
       "    <tr>\n",
       "      <th>0</th>\n",
       "      <td>1</td>\n",
       "      <td>Annai Velakanni College For Women</td>\n",
       "      <td>private</td>\n",
       "      <td>Tamil Nadu</td>\n",
       "      <td>Chennai</td>\n",
       "      <td>Bachelor of Arts (BA) in English is a versatil...</td>\n",
       "      <td>Bachelor of Arts, Bachelor of Business Adminis...</td>\n",
       "      <td>B.A, B.Com, B.Sc, BBA, BCA</td>\n",
       "      <td>Arts, Commerce, Management, Science</td>\n",
       "      <td>Accounting and Finance, Biochemistry, Business...</td>\n",
       "      <td>Annai Velakanni College For Women private Tami...</td>\n",
       "    </tr>\n",
       "    <tr>\n",
       "      <th>1</th>\n",
       "      <td>2</td>\n",
       "      <td>Alpha Arts And Science College</td>\n",
       "      <td>private</td>\n",
       "      <td>Tamil Nadu</td>\n",
       "      <td>Chennai</td>\n",
       "      <td>Bachelor of Business Administration (BBA) in B...</td>\n",
       "      <td>Bachelor of Business Administration, Bachelor ...</td>\n",
       "      <td>B.Com, B.Sc, BBA, BCA</td>\n",
       "      <td>Biotechnology, Commerce, Management, Science</td>\n",
       "      <td>Biotechnology, Business Administration, Comput...</td>\n",
       "      <td>Alpha Arts And Science College private Tamil N...</td>\n",
       "    </tr>\n",
       "    <tr>\n",
       "      <th>2</th>\n",
       "      <td>3</td>\n",
       "      <td>Agurchand Manmull Jain College</td>\n",
       "      <td>private</td>\n",
       "      <td>Tamil Nadu</td>\n",
       "      <td>Chennai</td>\n",
       "      <td>Bachelor of Arts (BA) in Criminology and Polic...</td>\n",
       "      <td>Bachelor of Arts, Bachelor of Business Adminis...</td>\n",
       "      <td>B.A, B.Com, B.Sc, BBA, BCA</td>\n",
       "      <td>Arts, Commerce, Management, Science</td>\n",
       "      <td>Accounting and Finance, Banking Management, Bu...</td>\n",
       "      <td>Agurchand Manmull Jain College private Tamil N...</td>\n",
       "    </tr>\n",
       "    <tr>\n",
       "      <th>3</th>\n",
       "      <td>4</td>\n",
       "      <td>Anna Adarsh College For Women</td>\n",
       "      <td>private</td>\n",
       "      <td>Tamil Nadu</td>\n",
       "      <td>Chennai</td>\n",
       "      <td>B.Com (Hons) program designed to provide stude...</td>\n",
       "      <td>Bachelor of Arts, Bachelor of Business Adminis...</td>\n",
       "      <td>B.A, B.Com, B.Sc, BBA, BCA</td>\n",
       "      <td>Arts, Commerce, Management, Science</td>\n",
       "      <td>Accounting and Finance, Banking Management, Bu...</td>\n",
       "      <td>Anna Adarsh College For Women private Tamil Na...</td>\n",
       "    </tr>\n",
       "    <tr>\n",
       "      <th>4</th>\n",
       "      <td>5</td>\n",
       "      <td>Annai Violet Arts and Science College</td>\n",
       "      <td>private</td>\n",
       "      <td>Tamil Nadu</td>\n",
       "      <td>Chennai</td>\n",
       "      <td>Bachelor of Arts (BA) in Economics offers stud...</td>\n",
       "      <td>Bachelor of Arts, Bachelor of Business Adminis...</td>\n",
       "      <td>B.A, B.Com, B.Sc, BBA, BCA</td>\n",
       "      <td>Arts, Commerce, Management, Science</td>\n",
       "      <td>Accounting and Finance, Biochemistry, Business...</td>\n",
       "      <td>Annai Violet Arts and Science College private ...</td>\n",
       "    </tr>\n",
       "  </tbody>\n",
       "</table>\n",
       "</div>"
      ]
     },
     "execution_count": 6,
     "metadata": {},
     "output_type": "execute_result"
    }
   ],
   "execution_count": 6
  },
  {
   "cell_type": "code",
   "id": "d60284c7-35c1-4fb7-902c-156ac244c134",
   "metadata": {
    "ExecuteTime": {
     "end_time": "2025-03-14T09:10:50.809694Z",
     "start_time": "2025-03-14T09:10:50.807498Z"
    }
   },
   "source": [],
   "outputs": [],
   "execution_count": 6
  },
  {
   "cell_type": "code",
   "id": "7b220ff1-5880-4094-9397-31850ea294c9",
   "metadata": {
    "ExecuteTime": {
     "end_time": "2025-03-14T09:13:14.565664Z",
     "start_time": "2025-03-14T09:10:50.810822Z"
    }
   },
   "source": [
    "df[\"embeddings\"] = df[\"combined_text\"].apply(lambda x: model.encode(x))"
   ],
   "outputs": [],
   "execution_count": 7
  },
  {
   "cell_type": "code",
   "id": "0213aea4-7ce4-4f6d-ae30-8b1792cac56f",
   "metadata": {
    "ExecuteTime": {
     "end_time": "2025-03-14T09:13:14.582195Z",
     "start_time": "2025-03-14T09:13:14.567175Z"
    }
   },
   "source": [
    "df.head()"
   ],
   "outputs": [
    {
     "data": {
      "text/plain": [
       "   id                       institution_name institution_type       state  \\\n",
       "0   1      Annai Velakanni College For Women          private  Tamil Nadu   \n",
       "1   2         Alpha Arts And Science College          private  Tamil Nadu   \n",
       "2   3         Agurchand Manmull Jain College          private  Tamil Nadu   \n",
       "3   4          Anna Adarsh College For Women          private  Tamil Nadu   \n",
       "4   5  Annai Violet Arts and Science College          private  Tamil Nadu   \n",
       "\n",
       "  district                            all_course_descriptions  \\\n",
       "0  Chennai  Bachelor of Arts (BA) in English is a versatil...   \n",
       "1  Chennai  Bachelor of Business Administration (BBA) in B...   \n",
       "2  Chennai  Bachelor of Arts (BA) in Criminology and Polic...   \n",
       "3  Chennai  B.Com (Hons) program designed to provide stude...   \n",
       "4  Chennai  Bachelor of Arts (BA) in Economics offers stud...   \n",
       "\n",
       "                             all_degree_descriptions  \\\n",
       "0  Bachelor of Arts, Bachelor of Business Adminis...   \n",
       "1  Bachelor of Business Administration, Bachelor ...   \n",
       "2  Bachelor of Arts, Bachelor of Business Adminis...   \n",
       "3  Bachelor of Arts, Bachelor of Business Adminis...   \n",
       "4  Bachelor of Arts, Bachelor of Business Adminis...   \n",
       "\n",
       "             all_degree_names                              all_stream_names  \\\n",
       "0  B.A, B.Com, B.Sc, BBA, BCA           Arts, Commerce, Management, Science   \n",
       "1       B.Com, B.Sc, BBA, BCA  Biotechnology, Commerce, Management, Science   \n",
       "2  B.A, B.Com, B.Sc, BBA, BCA           Arts, Commerce, Management, Science   \n",
       "3  B.A, B.Com, B.Sc, BBA, BCA           Arts, Commerce, Management, Science   \n",
       "4  B.A, B.Com, B.Sc, BBA, BCA           Arts, Commerce, Management, Science   \n",
       "\n",
       "                                    all_course_names  \\\n",
       "0  Accounting and Finance, Biochemistry, Business...   \n",
       "1  Biotechnology, Business Administration, Comput...   \n",
       "2  Accounting and Finance, Banking Management, Bu...   \n",
       "3  Accounting and Finance, Banking Management, Bu...   \n",
       "4  Accounting and Finance, Biochemistry, Business...   \n",
       "\n",
       "                                       combined_text  \\\n",
       "0  Annai Velakanni College For Women private Tami...   \n",
       "1  Alpha Arts And Science College private Tamil N...   \n",
       "2  Agurchand Manmull Jain College private Tamil N...   \n",
       "3  Anna Adarsh College For Women private Tamil Na...   \n",
       "4  Annai Violet Arts and Science College private ...   \n",
       "\n",
       "                                          embeddings  \n",
       "0  [-0.03530252, 0.0064196526, -0.07201576, 0.023...  \n",
       "1  [-0.0340493, -0.010598709, -0.06505797, -0.056...  \n",
       "2  [-0.028798798, -0.011772328, -0.123717144, -0....  \n",
       "3  [-0.036633845, -0.008536323, -0.036580175, 0.0...  \n",
       "4  [-0.019887945, -0.004737399, -0.024683991, 0.0...  "
      ],
      "text/html": [
       "<div>\n",
       "<style scoped>\n",
       "    .dataframe tbody tr th:only-of-type {\n",
       "        vertical-align: middle;\n",
       "    }\n",
       "\n",
       "    .dataframe tbody tr th {\n",
       "        vertical-align: top;\n",
       "    }\n",
       "\n",
       "    .dataframe thead th {\n",
       "        text-align: right;\n",
       "    }\n",
       "</style>\n",
       "<table border=\"1\" class=\"dataframe\">\n",
       "  <thead>\n",
       "    <tr style=\"text-align: right;\">\n",
       "      <th></th>\n",
       "      <th>id</th>\n",
       "      <th>institution_name</th>\n",
       "      <th>institution_type</th>\n",
       "      <th>state</th>\n",
       "      <th>district</th>\n",
       "      <th>all_course_descriptions</th>\n",
       "      <th>all_degree_descriptions</th>\n",
       "      <th>all_degree_names</th>\n",
       "      <th>all_stream_names</th>\n",
       "      <th>all_course_names</th>\n",
       "      <th>combined_text</th>\n",
       "      <th>embeddings</th>\n",
       "    </tr>\n",
       "  </thead>\n",
       "  <tbody>\n",
       "    <tr>\n",
       "      <th>0</th>\n",
       "      <td>1</td>\n",
       "      <td>Annai Velakanni College For Women</td>\n",
       "      <td>private</td>\n",
       "      <td>Tamil Nadu</td>\n",
       "      <td>Chennai</td>\n",
       "      <td>Bachelor of Arts (BA) in English is a versatil...</td>\n",
       "      <td>Bachelor of Arts, Bachelor of Business Adminis...</td>\n",
       "      <td>B.A, B.Com, B.Sc, BBA, BCA</td>\n",
       "      <td>Arts, Commerce, Management, Science</td>\n",
       "      <td>Accounting and Finance, Biochemistry, Business...</td>\n",
       "      <td>Annai Velakanni College For Women private Tami...</td>\n",
       "      <td>[-0.03530252, 0.0064196526, -0.07201576, 0.023...</td>\n",
       "    </tr>\n",
       "    <tr>\n",
       "      <th>1</th>\n",
       "      <td>2</td>\n",
       "      <td>Alpha Arts And Science College</td>\n",
       "      <td>private</td>\n",
       "      <td>Tamil Nadu</td>\n",
       "      <td>Chennai</td>\n",
       "      <td>Bachelor of Business Administration (BBA) in B...</td>\n",
       "      <td>Bachelor of Business Administration, Bachelor ...</td>\n",
       "      <td>B.Com, B.Sc, BBA, BCA</td>\n",
       "      <td>Biotechnology, Commerce, Management, Science</td>\n",
       "      <td>Biotechnology, Business Administration, Comput...</td>\n",
       "      <td>Alpha Arts And Science College private Tamil N...</td>\n",
       "      <td>[-0.0340493, -0.010598709, -0.06505797, -0.056...</td>\n",
       "    </tr>\n",
       "    <tr>\n",
       "      <th>2</th>\n",
       "      <td>3</td>\n",
       "      <td>Agurchand Manmull Jain College</td>\n",
       "      <td>private</td>\n",
       "      <td>Tamil Nadu</td>\n",
       "      <td>Chennai</td>\n",
       "      <td>Bachelor of Arts (BA) in Criminology and Polic...</td>\n",
       "      <td>Bachelor of Arts, Bachelor of Business Adminis...</td>\n",
       "      <td>B.A, B.Com, B.Sc, BBA, BCA</td>\n",
       "      <td>Arts, Commerce, Management, Science</td>\n",
       "      <td>Accounting and Finance, Banking Management, Bu...</td>\n",
       "      <td>Agurchand Manmull Jain College private Tamil N...</td>\n",
       "      <td>[-0.028798798, -0.011772328, -0.123717144, -0....</td>\n",
       "    </tr>\n",
       "    <tr>\n",
       "      <th>3</th>\n",
       "      <td>4</td>\n",
       "      <td>Anna Adarsh College For Women</td>\n",
       "      <td>private</td>\n",
       "      <td>Tamil Nadu</td>\n",
       "      <td>Chennai</td>\n",
       "      <td>B.Com (Hons) program designed to provide stude...</td>\n",
       "      <td>Bachelor of Arts, Bachelor of Business Adminis...</td>\n",
       "      <td>B.A, B.Com, B.Sc, BBA, BCA</td>\n",
       "      <td>Arts, Commerce, Management, Science</td>\n",
       "      <td>Accounting and Finance, Banking Management, Bu...</td>\n",
       "      <td>Anna Adarsh College For Women private Tamil Na...</td>\n",
       "      <td>[-0.036633845, -0.008536323, -0.036580175, 0.0...</td>\n",
       "    </tr>\n",
       "    <tr>\n",
       "      <th>4</th>\n",
       "      <td>5</td>\n",
       "      <td>Annai Violet Arts and Science College</td>\n",
       "      <td>private</td>\n",
       "      <td>Tamil Nadu</td>\n",
       "      <td>Chennai</td>\n",
       "      <td>Bachelor of Arts (BA) in Economics offers stud...</td>\n",
       "      <td>Bachelor of Arts, Bachelor of Business Adminis...</td>\n",
       "      <td>B.A, B.Com, B.Sc, BBA, BCA</td>\n",
       "      <td>Arts, Commerce, Management, Science</td>\n",
       "      <td>Accounting and Finance, Biochemistry, Business...</td>\n",
       "      <td>Annai Violet Arts and Science College private ...</td>\n",
       "      <td>[-0.019887945, -0.004737399, -0.024683991, 0.0...</td>\n",
       "    </tr>\n",
       "  </tbody>\n",
       "</table>\n",
       "</div>"
      ]
     },
     "execution_count": 8,
     "metadata": {},
     "output_type": "execute_result"
    }
   ],
   "execution_count": 8
  },
  {
   "cell_type": "code",
   "id": "4ea76ac7-8b4b-4d26-ae77-bf6e4a52f781",
   "metadata": {
    "ExecuteTime": {
     "end_time": "2025-03-14T09:13:15.499261Z",
     "start_time": "2025-03-14T09:13:14.583204Z"
    }
   },
   "source": [
    "df[\"embeddings\"] = df[\"embeddings\"].apply(lambda x: \",\".join(map(str, x)))"
   ],
   "outputs": [],
   "execution_count": 9
  },
  {
   "cell_type": "code",
   "id": "eabda683-1469-41bd-9143-09f277c6d38e",
   "metadata": {
    "ExecuteTime": {
     "end_time": "2025-03-14T09:13:16.154922Z",
     "start_time": "2025-03-14T09:13:15.500272Z"
    }
   },
   "source": "df.to_csv(\"../DataSets/processed/institutions_content_based_data_after_eda_after_embedding.csv\",index=False,sep=\";\")",
   "outputs": [],
   "execution_count": 10
  },
  {
   "cell_type": "code",
   "id": "5c27ae51-4b2b-4e92-8f4a-c07a412cc7e4",
   "metadata": {
    "ExecuteTime": {
     "end_time": "2025-03-14T09:13:16.158299Z",
     "start_time": "2025-03-14T09:13:16.155260Z"
    }
   },
   "source": [],
   "outputs": [],
   "execution_count": 10
  }
 ],
 "metadata": {
  "kernelspec": {
   "display_name": "Python 3 (ipykernel)",
   "language": "python",
   "name": "python3"
  },
  "language_info": {
   "codemirror_mode": {
    "name": "ipython",
    "version": 3
   },
   "file_extension": ".py",
   "mimetype": "text/x-python",
   "name": "python",
   "nbconvert_exporter": "python",
   "pygments_lexer": "ipython3",
   "version": "3.12.9"
  }
 },
 "nbformat": 4,
 "nbformat_minor": 5
}
