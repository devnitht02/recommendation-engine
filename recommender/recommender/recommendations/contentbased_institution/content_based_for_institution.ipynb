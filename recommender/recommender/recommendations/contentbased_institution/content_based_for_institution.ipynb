{
 "cells": [
  {
   "cell_type": "code",
   "id": "50865428-52cd-4515-b2c4-b006d901aca0",
   "metadata": {
    "ExecuteTime": {
     "end_time": "2025-03-17T07:51:09.696079Z",
     "start_time": "2025-03-17T07:51:09.691610Z"
    }
   },
   "source": [
    "import torch\n",
    "from sentence_transformers import SentenceTransformer\n",
    "import pandas as pd\n",
    "import numpy as np\n",
    "import ast\n",
    "from sklearn.metrics.pairwise import cosine_similarity"
   ],
   "outputs": [],
   "execution_count": 7
  },
  {
   "cell_type": "code",
   "id": "eb67185f-1ba2-4a75-9fef-87beca169901",
   "metadata": {
    "ExecuteTime": {
     "end_time": "2025-03-17T07:51:10.030738Z",
     "start_time": "2025-03-17T07:51:09.697086Z"
    }
   },
   "source": "df = pd.read_csv(\"../DataSets/processed/institutions_content_based_data_after_eda_after_embedding.csv\",sep=\";\")",
   "outputs": [],
   "execution_count": 8
  },
  {
   "cell_type": "code",
   "id": "9aea305b-fa55-4ea4-a8f9-519d6c0b08c4",
   "metadata": {
    "ExecuteTime": {
     "end_time": "2025-03-17T07:51:10.040789Z",
     "start_time": "2025-03-17T07:51:10.031746Z"
    }
   },
   "source": [
    "df.head()"
   ],
   "outputs": [
    {
     "data": {
      "text/plain": [
       "   id                       institution_name institution_type       state  \\\n",
       "0   1      Annai Velakanni College For Women          private  Tamil Nadu   \n",
       "1   2         Alpha Arts And Science College          private  Tamil Nadu   \n",
       "2   3         Agurchand Manmull Jain College          private  Tamil Nadu   \n",
       "3   4          Anna Adarsh College For Women          private  Tamil Nadu   \n",
       "4   5  Annai Violet Arts and Science College          private  Tamil Nadu   \n",
       "\n",
       "  district                            all_course_descriptions  \\\n",
       "0  Chennai  Bachelor of Arts (BA) in English is a versatil...   \n",
       "1  Chennai  Bachelor of Business Administration (BBA) in B...   \n",
       "2  Chennai  Bachelor of Arts (BA) in Criminology and Polic...   \n",
       "3  Chennai  B.Com (Hons) program designed to provide stude...   \n",
       "4  Chennai  Bachelor of Arts (BA) in Economics offers stud...   \n",
       "\n",
       "                             all_degree_descriptions  \\\n",
       "0  Bachelor of Arts, Bachelor of Business Adminis...   \n",
       "1  Bachelor of Business Administration, Bachelor ...   \n",
       "2  Bachelor of Arts, Bachelor of Business Adminis...   \n",
       "3  Bachelor of Arts, Bachelor of Business Adminis...   \n",
       "4  Bachelor of Arts, Bachelor of Business Adminis...   \n",
       "\n",
       "             all_degree_names                              all_stream_names  \\\n",
       "0  B.A, B.Com, B.Sc, BBA, BCA           Arts, Commerce, Management, Science   \n",
       "1       B.Com, B.Sc, BBA, BCA  Biotechnology, Commerce, Management, Science   \n",
       "2  B.A, B.Com, B.Sc, BBA, BCA           Arts, Commerce, Management, Science   \n",
       "3  B.A, B.Com, B.Sc, BBA, BCA           Arts, Commerce, Management, Science   \n",
       "4  B.A, B.Com, B.Sc, BBA, BCA           Arts, Commerce, Management, Science   \n",
       "\n",
       "                                    all_course_names  \\\n",
       "0  Accounting and Finance, Biochemistry, Business...   \n",
       "1  Biotechnology, Business Administration, Comput...   \n",
       "2  Accounting and Finance, Banking Management, Bu...   \n",
       "3  Accounting and Finance, Banking Management, Bu...   \n",
       "4  Accounting and Finance, Biochemistry, Business...   \n",
       "\n",
       "                                       combined_text  \\\n",
       "0  Annai Velakanni College For Women private Tami...   \n",
       "1  Alpha Arts And Science College private Tamil N...   \n",
       "2  Agurchand Manmull Jain College private Tamil N...   \n",
       "3  Anna Adarsh College For Women private Tamil Na...   \n",
       "4  Annai Violet Arts and Science College private ...   \n",
       "\n",
       "                                          embeddings  \n",
       "0  -0.03530252,0.0064196526,-0.07201576,0.0236927...  \n",
       "1  -0.0340493,-0.010598709,-0.06505797,-0.0565643...  \n",
       "2  -0.028798798,-0.011772328,-0.123717144,-0.0173...  \n",
       "3  -0.036633845,-0.008536323,-0.036580175,0.02671...  \n",
       "4  -0.019887945,-0.004737399,-0.024683991,0.04411...  "
      ],
      "text/html": [
       "<div>\n",
       "<style scoped>\n",
       "    .dataframe tbody tr th:only-of-type {\n",
       "        vertical-align: middle;\n",
       "    }\n",
       "\n",
       "    .dataframe tbody tr th {\n",
       "        vertical-align: top;\n",
       "    }\n",
       "\n",
       "    .dataframe thead th {\n",
       "        text-align: right;\n",
       "    }\n",
       "</style>\n",
       "<table border=\"1\" class=\"dataframe\">\n",
       "  <thead>\n",
       "    <tr style=\"text-align: right;\">\n",
       "      <th></th>\n",
       "      <th>id</th>\n",
       "      <th>institution_name</th>\n",
       "      <th>institution_type</th>\n",
       "      <th>state</th>\n",
       "      <th>district</th>\n",
       "      <th>all_course_descriptions</th>\n",
       "      <th>all_degree_descriptions</th>\n",
       "      <th>all_degree_names</th>\n",
       "      <th>all_stream_names</th>\n",
       "      <th>all_course_names</th>\n",
       "      <th>combined_text</th>\n",
       "      <th>embeddings</th>\n",
       "    </tr>\n",
       "  </thead>\n",
       "  <tbody>\n",
       "    <tr>\n",
       "      <th>0</th>\n",
       "      <td>1</td>\n",
       "      <td>Annai Velakanni College For Women</td>\n",
       "      <td>private</td>\n",
       "      <td>Tamil Nadu</td>\n",
       "      <td>Chennai</td>\n",
       "      <td>Bachelor of Arts (BA) in English is a versatil...</td>\n",
       "      <td>Bachelor of Arts, Bachelor of Business Adminis...</td>\n",
       "      <td>B.A, B.Com, B.Sc, BBA, BCA</td>\n",
       "      <td>Arts, Commerce, Management, Science</td>\n",
       "      <td>Accounting and Finance, Biochemistry, Business...</td>\n",
       "      <td>Annai Velakanni College For Women private Tami...</td>\n",
       "      <td>-0.03530252,0.0064196526,-0.07201576,0.0236927...</td>\n",
       "    </tr>\n",
       "    <tr>\n",
       "      <th>1</th>\n",
       "      <td>2</td>\n",
       "      <td>Alpha Arts And Science College</td>\n",
       "      <td>private</td>\n",
       "      <td>Tamil Nadu</td>\n",
       "      <td>Chennai</td>\n",
       "      <td>Bachelor of Business Administration (BBA) in B...</td>\n",
       "      <td>Bachelor of Business Administration, Bachelor ...</td>\n",
       "      <td>B.Com, B.Sc, BBA, BCA</td>\n",
       "      <td>Biotechnology, Commerce, Management, Science</td>\n",
       "      <td>Biotechnology, Business Administration, Comput...</td>\n",
       "      <td>Alpha Arts And Science College private Tamil N...</td>\n",
       "      <td>-0.0340493,-0.010598709,-0.06505797,-0.0565643...</td>\n",
       "    </tr>\n",
       "    <tr>\n",
       "      <th>2</th>\n",
       "      <td>3</td>\n",
       "      <td>Agurchand Manmull Jain College</td>\n",
       "      <td>private</td>\n",
       "      <td>Tamil Nadu</td>\n",
       "      <td>Chennai</td>\n",
       "      <td>Bachelor of Arts (BA) in Criminology and Polic...</td>\n",
       "      <td>Bachelor of Arts, Bachelor of Business Adminis...</td>\n",
       "      <td>B.A, B.Com, B.Sc, BBA, BCA</td>\n",
       "      <td>Arts, Commerce, Management, Science</td>\n",
       "      <td>Accounting and Finance, Banking Management, Bu...</td>\n",
       "      <td>Agurchand Manmull Jain College private Tamil N...</td>\n",
       "      <td>-0.028798798,-0.011772328,-0.123717144,-0.0173...</td>\n",
       "    </tr>\n",
       "    <tr>\n",
       "      <th>3</th>\n",
       "      <td>4</td>\n",
       "      <td>Anna Adarsh College For Women</td>\n",
       "      <td>private</td>\n",
       "      <td>Tamil Nadu</td>\n",
       "      <td>Chennai</td>\n",
       "      <td>B.Com (Hons) program designed to provide stude...</td>\n",
       "      <td>Bachelor of Arts, Bachelor of Business Adminis...</td>\n",
       "      <td>B.A, B.Com, B.Sc, BBA, BCA</td>\n",
       "      <td>Arts, Commerce, Management, Science</td>\n",
       "      <td>Accounting and Finance, Banking Management, Bu...</td>\n",
       "      <td>Anna Adarsh College For Women private Tamil Na...</td>\n",
       "      <td>-0.036633845,-0.008536323,-0.036580175,0.02671...</td>\n",
       "    </tr>\n",
       "    <tr>\n",
       "      <th>4</th>\n",
       "      <td>5</td>\n",
       "      <td>Annai Violet Arts and Science College</td>\n",
       "      <td>private</td>\n",
       "      <td>Tamil Nadu</td>\n",
       "      <td>Chennai</td>\n",
       "      <td>Bachelor of Arts (BA) in Economics offers stud...</td>\n",
       "      <td>Bachelor of Arts, Bachelor of Business Adminis...</td>\n",
       "      <td>B.A, B.Com, B.Sc, BBA, BCA</td>\n",
       "      <td>Arts, Commerce, Management, Science</td>\n",
       "      <td>Accounting and Finance, Biochemistry, Business...</td>\n",
       "      <td>Annai Violet Arts and Science College private ...</td>\n",
       "      <td>-0.019887945,-0.004737399,-0.024683991,0.04411...</td>\n",
       "    </tr>\n",
       "  </tbody>\n",
       "</table>\n",
       "</div>"
      ]
     },
     "execution_count": 9,
     "metadata": {},
     "output_type": "execute_result"
    }
   ],
   "execution_count": 9
  },
  {
   "cell_type": "markdown",
   "id": "4eee91f7-d778-48f2-beb0-3574e754e766",
   "metadata": {},
   "source": [
    "## Load model"
   ]
  },
  {
   "cell_type": "code",
   "id": "3ff3a788-97cc-4a97-8807-b32e6cf23a5b",
   "metadata": {
    "ExecuteTime": {
     "end_time": "2025-03-17T07:51:17.860898Z",
     "start_time": "2025-03-17T07:51:10.042796Z"
    }
   },
   "source": [
    "model = SentenceTransformer(\"all-MiniLM-L6-v2\")  "
   ],
   "outputs": [],
   "execution_count": 10
  },
  {
   "cell_type": "code",
   "id": "f9182bd4-7050-433b-9a9a-4ffa91256d58",
   "metadata": {
    "ExecuteTime": {
     "end_time": "2025-03-17T07:51:17.868Z",
     "start_time": "2025-03-17T07:51:17.862602Z"
    }
   },
   "source": [
    "def recommend_institutions(input_text, top_n=5):\n",
    "    input_embedding = model.encode([input_text])\n",
    "\n",
    "    df[\"similarity\"] = df[\"embeddings\"].apply(lambda x: cosine_similarity([x], input_embedding)[0][0])\n",
    "\n",
    "    recommendations = df.sort_values(by=\"similarity\", ascending=False).head(top_n)\n",
    "\n",
    "    return recommendations[[\"institution_name\", \"institution_type\",\"state\",\"district\", \"similarity\"]]\n"
   ],
   "outputs": [],
   "execution_count": 11
  },
  {
   "cell_type": "code",
   "id": "d17b2fb2-7172-45ea-baa7-a11a589c821f",
   "metadata": {
    "ExecuteTime": {
     "end_time": "2025-03-17T07:51:21.341719Z",
     "start_time": "2025-03-17T07:51:17.869010Z"
    }
   },
   "source": [
    "\n",
    "index = eval(input())\n",
    "input_text = df[\"combined_text\"].iloc[index]\n",
    "print(f\"User Searched for : {df[\"institution_name\"].iloc[index]}\")\n",
    "recommended_institutions = recommend_institutions(input_text)\n",
    "recommended_institutions"
   ],
   "outputs": [
    {
     "name": "stdout",
     "output_type": "stream",
     "text": [
      "User Searched for : Birla Institute of Technology and Science\n"
     ]
    },
    {
     "ename": "ValueError",
     "evalue": "could not convert string to float: np.str_('-0.03530252,0.0064196526,-0.07201576,0.023692722,-0.056339562,0.019086093,0.023308598,0.025236547,0.00885907,-0.0411247,-0.081134506,-0.0766668,-0.0077440212,-0.027109034,0.021381702,0.03869729,0.0012206298,0.0065558017,0.005865023,0.010592566,-0.02493093,0.03734141,0.027192272,-0.016446657,-0.04424791,-0.062063612,0.023993254,-0.05773852,-0.067911215,-0.017411767,0.016547771,0.09964489,0.04593358,0.043874383,0.020923482,0.031729393,-0.043237586,0.024583023,0.09198084,-0.050564364,-0.025870224,-0.052134,0.00023621366,-0.08502676,0.106978446,-0.039673142,-0.085721135,0.042256314,0.02900124,-0.0063429074,-0.12465266,-0.0058370237,-0.0866007,0.011582283,-0.021410095,0.0057165595,0.052764103,0.04965156,-0.016462859,0.010021135,0.0063680224,0.0012432691,0.09075903,0.04620698,0.06735048,0.026007287,-0.04547051,0.07756353,-0.00431938,-0.05065807,0.042271294,-0.07338525,-0.10170856,0.052630857,0.028921448,-0.03828597,0.03618791,0.095118426,0.0020770289,-0.000428471,-0.0048039267,0.035762,-0.054317594,0.05451925,-0.055405598,-0.04567617,-0.044526428,-0.031139765,0.04273699,0.08899418,0.09379213,-0.012065521,-0.026601024,-0.047160234,0.008953967,-0.11767585,-0.07853174,-0.006718567,0.091218896,0.0093485,-0.029943962,0.03722687,-0.030932091,-0.0011332838,-0.09574936,-0.010947217,0.18844476,-0.03601307,0.012358756,-0.013203261,0.001817024,0.024628196,-0.01697461,-0.05241741,-0.004557152,0.03519489,0.012977625,0.056820076,0.09312967,0.03806838,-0.07976807,0.05959552,-0.007872309,-0.14785782,-0.061974365,-0.054597847,-0.0607787,9.4035755e-34,0.02034811,0.040049292,0.00063051056,0.030698573,-0.011304071,0.047747493,-0.014621179,-0.030071296,-0.033663947,0.06867721,-0.0038404688,0.08820231,-0.031121874,-0.043605097,0.070332356,0.03976138,-0.033088587,0.061466403,0.028419632,0.048706498,0.040377896,-0.0425359,0.009541826,-0.114919916,0.0382606,0.053957112,0.099972665,0.07181931,0.011715751,-0.0035285058,0.081851125,-0.021016406,-0.098168716,-0.031890005,0.020971559,-0.044984993,-0.0752899,0.026059873,0.06482268,-0.035097264,-0.092220746,0.029581903,0.043362945,-0.0044567543,-0.06704011,0.095506765,0.056262363,0.042271875,0.06729395,0.008924917,-0.03523991,-0.12296948,0.033310395,-0.008295826,0.06290917,-0.00963065,0.045081433,-0.04527507,-0.008567873,-0.010760879,0.011289905,0.0357952,-0.060549162,-0.022923606,-0.074764304,0.0013042267,-0.06481353,-0.010612141,0.08062529,-0.15482523,-0.0025879228,-0.02310113,0.027057715,0.010758852,-0.02936544,0.018406201,0.03263586,-0.0046587153,0.021861726,0.055361897,0.0059186113,0.0151651595,0.1125149,-0.02935299,0.034413073,0.05415053,0.038327347,-0.06294198,0.051494323,0.005618455,0.031916358,-0.061070506,0.005185424,0.13307954,0.013870829,-2.1883985e-33,0.037047382,0.00048606665,-0.029217022,-0.055078913,-0.00036330736,-0.043564845,0.057467893,-0.013675668,0.037809804,-0.029924234,-0.032606717,-0.03442084,0.012542321,0.10186898,0.009064306,-0.025084142,0.06757129,-0.029643059,-0.062453892,-0.01447617,-0.060475715,0.057641085,0.05626208,-0.041990258,0.02388311,0.027248789,-0.009946926,0.06151427,-0.05460985,0.020569336,0.05900859,-0.028273227,-0.07458751,0.05555753,-0.002513636,-0.11439965,0.013207165,-0.04717152,0.06909927,0.049693275,0.03222734,-0.018973656,-0.03418949,0.02288856,0.05942383,-0.019833833,0.07536789,-0.0006202528,0.0553755,-0.017731976,-0.003999979,-0.01742084,0.05538523,-0.006632953,0.04169104,0.0038233635,0.07556798,-0.058453735,-0.026502334,0.011348588,0.08909083,0.041352306,0.078042865,0.033159576,-0.08746465,0.042408068,0.10452203,0.007123736,-0.020060204,-0.08229377,0.025400268,-0.033286702,-0.0031510184,-0.02299352,-0.09038988,0.06271703,-0.03117484,-0.038854536,0.023835633,-0.006961143,-0.077872485,-0.0033863375,-0.05156429,0.02240595,-0.020544467,-0.026971592,0.0171014,-0.086198166,0.023030901,-0.059828438,-0.059704024,0.046880867,0.035565544,0.02501567,-0.026649518,-4.6069456e-08,-0.025386907,-0.120371826,-0.05251248,-0.006093906,-0.0029428867,-0.09210885,-0.06385284,-0.09942722,0.009050759,-0.023538135,-0.033281036,0.0009930012,-0.098139666,-0.03462232,0.00776742,-0.004129426,0.053246878,0.024017496,0.030765764,0.016573725,0.11681264,-0.04802001,0.0006354624,-0.004632758,-0.06706882,-0.038624547,0.046366483,-0.0014346258,0.07154622,-0.04760572,0.0144553175,0.009233164,0.06527893,-0.031086879,-0.025897123,-0.0043211416,0.07921102,0.0038733745,0.017549189,0.054952152,-0.061238926,-0.07539788,0.052584488,0.0070220046,-0.010183553,0.0014008832,-0.015491495,0.032976262,0.057372067,-0.024103232,-0.022846913,-0.012023619,0.0054689464,-0.03932054,0.02319645,0.044351492,-0.0044164145,0.004157371,-0.035159294,0.08072808,-0.006776317,-0.07878504,-0.010425547,-0.02128752')",
     "output_type": "error",
     "traceback": [
      "\u001B[1;31m---------------------------------------------------------------------------\u001B[0m",
      "\u001B[1;31mValueError\u001B[0m                                Traceback (most recent call last)",
      "Cell \u001B[1;32mIn[12], line 4\u001B[0m\n\u001B[0;32m      2\u001B[0m input_text \u001B[38;5;241m=\u001B[39m df[\u001B[38;5;124m\"\u001B[39m\u001B[38;5;124mcombined_text\u001B[39m\u001B[38;5;124m\"\u001B[39m]\u001B[38;5;241m.\u001B[39miloc[index]\n\u001B[0;32m      3\u001B[0m \u001B[38;5;28mprint\u001B[39m(\u001B[38;5;124mf\u001B[39m\u001B[38;5;124m\"\u001B[39m\u001B[38;5;124mUser Searched for : \u001B[39m\u001B[38;5;132;01m{\u001B[39;00mdf[\u001B[38;5;124m\"\u001B[39m\u001B[38;5;124minstitution_name\u001B[39m\u001B[38;5;124m\"\u001B[39m]\u001B[38;5;241m.\u001B[39miloc[index]\u001B[38;5;132;01m}\u001B[39;00m\u001B[38;5;124m\"\u001B[39m)\n\u001B[1;32m----> 4\u001B[0m recommended_institutions \u001B[38;5;241m=\u001B[39m \u001B[43mrecommend_institutions\u001B[49m\u001B[43m(\u001B[49m\u001B[43minput_text\u001B[49m\u001B[43m)\u001B[49m\n\u001B[0;32m      5\u001B[0m recommended_institutions\n",
      "Cell \u001B[1;32mIn[11], line 4\u001B[0m, in \u001B[0;36mrecommend_institutions\u001B[1;34m(input_text, top_n)\u001B[0m\n\u001B[0;32m      1\u001B[0m \u001B[38;5;28;01mdef\u001B[39;00m \u001B[38;5;21mrecommend_institutions\u001B[39m(input_text, top_n\u001B[38;5;241m=\u001B[39m\u001B[38;5;241m5\u001B[39m):\n\u001B[0;32m      2\u001B[0m     input_embedding \u001B[38;5;241m=\u001B[39m model\u001B[38;5;241m.\u001B[39mencode([input_text])\n\u001B[1;32m----> 4\u001B[0m     df[\u001B[38;5;124m\"\u001B[39m\u001B[38;5;124msimilarity\u001B[39m\u001B[38;5;124m\"\u001B[39m] \u001B[38;5;241m=\u001B[39m \u001B[43mdf\u001B[49m\u001B[43m[\u001B[49m\u001B[38;5;124;43m\"\u001B[39;49m\u001B[38;5;124;43membeddings\u001B[39;49m\u001B[38;5;124;43m\"\u001B[39;49m\u001B[43m]\u001B[49m\u001B[38;5;241;43m.\u001B[39;49m\u001B[43mapply\u001B[49m\u001B[43m(\u001B[49m\u001B[38;5;28;43;01mlambda\u001B[39;49;00m\u001B[43m \u001B[49m\u001B[43mx\u001B[49m\u001B[43m:\u001B[49m\u001B[43m \u001B[49m\u001B[43mcosine_similarity\u001B[49m\u001B[43m(\u001B[49m\u001B[43m[\u001B[49m\u001B[43mx\u001B[49m\u001B[43m]\u001B[49m\u001B[43m,\u001B[49m\u001B[43m \u001B[49m\u001B[43minput_embedding\u001B[49m\u001B[43m)\u001B[49m\u001B[43m[\u001B[49m\u001B[38;5;241;43m0\u001B[39;49m\u001B[43m]\u001B[49m\u001B[43m[\u001B[49m\u001B[38;5;241;43m0\u001B[39;49m\u001B[43m]\u001B[49m\u001B[43m)\u001B[49m\n\u001B[0;32m      6\u001B[0m     recommendations \u001B[38;5;241m=\u001B[39m df\u001B[38;5;241m.\u001B[39msort_values(by\u001B[38;5;241m=\u001B[39m\u001B[38;5;124m\"\u001B[39m\u001B[38;5;124msimilarity\u001B[39m\u001B[38;5;124m\"\u001B[39m, ascending\u001B[38;5;241m=\u001B[39m\u001B[38;5;28;01mFalse\u001B[39;00m)\u001B[38;5;241m.\u001B[39mhead(top_n)\n\u001B[0;32m      8\u001B[0m     \u001B[38;5;28;01mreturn\u001B[39;00m recommendations[[\u001B[38;5;124m\"\u001B[39m\u001B[38;5;124minstitution_name\u001B[39m\u001B[38;5;124m\"\u001B[39m, \u001B[38;5;124m\"\u001B[39m\u001B[38;5;124minstitution_type\u001B[39m\u001B[38;5;124m\"\u001B[39m,\u001B[38;5;124m\"\u001B[39m\u001B[38;5;124mstate\u001B[39m\u001B[38;5;124m\"\u001B[39m,\u001B[38;5;124m\"\u001B[39m\u001B[38;5;124mdistrict\u001B[39m\u001B[38;5;124m\"\u001B[39m, \u001B[38;5;124m\"\u001B[39m\u001B[38;5;124msimilarity\u001B[39m\u001B[38;5;124m\"\u001B[39m]]\n",
      "File \u001B[1;32m~\\AppData\\Local\\Programs\\Python\\Python312\\Lib\\site-packages\\pandas\\core\\series.py:4924\u001B[0m, in \u001B[0;36mSeries.apply\u001B[1;34m(self, func, convert_dtype, args, by_row, **kwargs)\u001B[0m\n\u001B[0;32m   4789\u001B[0m \u001B[38;5;28;01mdef\u001B[39;00m \u001B[38;5;21mapply\u001B[39m(\n\u001B[0;32m   4790\u001B[0m     \u001B[38;5;28mself\u001B[39m,\n\u001B[0;32m   4791\u001B[0m     func: AggFuncType,\n\u001B[1;32m   (...)\u001B[0m\n\u001B[0;32m   4796\u001B[0m     \u001B[38;5;241m*\u001B[39m\u001B[38;5;241m*\u001B[39mkwargs,\n\u001B[0;32m   4797\u001B[0m ) \u001B[38;5;241m-\u001B[39m\u001B[38;5;241m>\u001B[39m DataFrame \u001B[38;5;241m|\u001B[39m Series:\n\u001B[0;32m   4798\u001B[0m \u001B[38;5;250m    \u001B[39m\u001B[38;5;124;03m\"\"\"\u001B[39;00m\n\u001B[0;32m   4799\u001B[0m \u001B[38;5;124;03m    Invoke function on values of Series.\u001B[39;00m\n\u001B[0;32m   4800\u001B[0m \n\u001B[1;32m   (...)\u001B[0m\n\u001B[0;32m   4915\u001B[0m \u001B[38;5;124;03m    dtype: float64\u001B[39;00m\n\u001B[0;32m   4916\u001B[0m \u001B[38;5;124;03m    \"\"\"\u001B[39;00m\n\u001B[0;32m   4917\u001B[0m     \u001B[38;5;28;01mreturn\u001B[39;00m \u001B[43mSeriesApply\u001B[49m\u001B[43m(\u001B[49m\n\u001B[0;32m   4918\u001B[0m \u001B[43m        \u001B[49m\u001B[38;5;28;43mself\u001B[39;49m\u001B[43m,\u001B[49m\n\u001B[0;32m   4919\u001B[0m \u001B[43m        \u001B[49m\u001B[43mfunc\u001B[49m\u001B[43m,\u001B[49m\n\u001B[0;32m   4920\u001B[0m \u001B[43m        \u001B[49m\u001B[43mconvert_dtype\u001B[49m\u001B[38;5;241;43m=\u001B[39;49m\u001B[43mconvert_dtype\u001B[49m\u001B[43m,\u001B[49m\n\u001B[0;32m   4921\u001B[0m \u001B[43m        \u001B[49m\u001B[43mby_row\u001B[49m\u001B[38;5;241;43m=\u001B[39;49m\u001B[43mby_row\u001B[49m\u001B[43m,\u001B[49m\n\u001B[0;32m   4922\u001B[0m \u001B[43m        \u001B[49m\u001B[43margs\u001B[49m\u001B[38;5;241;43m=\u001B[39;49m\u001B[43margs\u001B[49m\u001B[43m,\u001B[49m\n\u001B[0;32m   4923\u001B[0m \u001B[43m        \u001B[49m\u001B[43mkwargs\u001B[49m\u001B[38;5;241;43m=\u001B[39;49m\u001B[43mkwargs\u001B[49m\u001B[43m,\u001B[49m\n\u001B[1;32m-> 4924\u001B[0m \u001B[43m    \u001B[49m\u001B[43m)\u001B[49m\u001B[38;5;241;43m.\u001B[39;49m\u001B[43mapply\u001B[49m\u001B[43m(\u001B[49m\u001B[43m)\u001B[49m\n",
      "File \u001B[1;32m~\\AppData\\Local\\Programs\\Python\\Python312\\Lib\\site-packages\\pandas\\core\\apply.py:1427\u001B[0m, in \u001B[0;36mSeriesApply.apply\u001B[1;34m(self)\u001B[0m\n\u001B[0;32m   1424\u001B[0m     \u001B[38;5;28;01mreturn\u001B[39;00m \u001B[38;5;28mself\u001B[39m\u001B[38;5;241m.\u001B[39mapply_compat()\n\u001B[0;32m   1426\u001B[0m \u001B[38;5;66;03m# self.func is Callable\u001B[39;00m\n\u001B[1;32m-> 1427\u001B[0m \u001B[38;5;28;01mreturn\u001B[39;00m \u001B[38;5;28;43mself\u001B[39;49m\u001B[38;5;241;43m.\u001B[39;49m\u001B[43mapply_standard\u001B[49m\u001B[43m(\u001B[49m\u001B[43m)\u001B[49m\n",
      "File \u001B[1;32m~\\AppData\\Local\\Programs\\Python\\Python312\\Lib\\site-packages\\pandas\\core\\apply.py:1507\u001B[0m, in \u001B[0;36mSeriesApply.apply_standard\u001B[1;34m(self)\u001B[0m\n\u001B[0;32m   1501\u001B[0m \u001B[38;5;66;03m# row-wise access\u001B[39;00m\n\u001B[0;32m   1502\u001B[0m \u001B[38;5;66;03m# apply doesn't have a `na_action` keyword and for backward compat reasons\u001B[39;00m\n\u001B[0;32m   1503\u001B[0m \u001B[38;5;66;03m# we need to give `na_action=\"ignore\"` for categorical data.\u001B[39;00m\n\u001B[0;32m   1504\u001B[0m \u001B[38;5;66;03m# TODO: remove the `na_action=\"ignore\"` when that default has been changed in\u001B[39;00m\n\u001B[0;32m   1505\u001B[0m \u001B[38;5;66;03m#  Categorical (GH51645).\u001B[39;00m\n\u001B[0;32m   1506\u001B[0m action \u001B[38;5;241m=\u001B[39m \u001B[38;5;124m\"\u001B[39m\u001B[38;5;124mignore\u001B[39m\u001B[38;5;124m\"\u001B[39m \u001B[38;5;28;01mif\u001B[39;00m \u001B[38;5;28misinstance\u001B[39m(obj\u001B[38;5;241m.\u001B[39mdtype, CategoricalDtype) \u001B[38;5;28;01melse\u001B[39;00m \u001B[38;5;28;01mNone\u001B[39;00m\n\u001B[1;32m-> 1507\u001B[0m mapped \u001B[38;5;241m=\u001B[39m \u001B[43mobj\u001B[49m\u001B[38;5;241;43m.\u001B[39;49m\u001B[43m_map_values\u001B[49m\u001B[43m(\u001B[49m\n\u001B[0;32m   1508\u001B[0m \u001B[43m    \u001B[49m\u001B[43mmapper\u001B[49m\u001B[38;5;241;43m=\u001B[39;49m\u001B[43mcurried\u001B[49m\u001B[43m,\u001B[49m\u001B[43m \u001B[49m\u001B[43mna_action\u001B[49m\u001B[38;5;241;43m=\u001B[39;49m\u001B[43maction\u001B[49m\u001B[43m,\u001B[49m\u001B[43m \u001B[49m\u001B[43mconvert\u001B[49m\u001B[38;5;241;43m=\u001B[39;49m\u001B[38;5;28;43mself\u001B[39;49m\u001B[38;5;241;43m.\u001B[39;49m\u001B[43mconvert_dtype\u001B[49m\n\u001B[0;32m   1509\u001B[0m \u001B[43m\u001B[49m\u001B[43m)\u001B[49m\n\u001B[0;32m   1511\u001B[0m \u001B[38;5;28;01mif\u001B[39;00m \u001B[38;5;28mlen\u001B[39m(mapped) \u001B[38;5;129;01mand\u001B[39;00m \u001B[38;5;28misinstance\u001B[39m(mapped[\u001B[38;5;241m0\u001B[39m], ABCSeries):\n\u001B[0;32m   1512\u001B[0m     \u001B[38;5;66;03m# GH#43986 Need to do list(mapped) in order to get treated as nested\u001B[39;00m\n\u001B[0;32m   1513\u001B[0m     \u001B[38;5;66;03m#  See also GH#25959 regarding EA support\u001B[39;00m\n\u001B[0;32m   1514\u001B[0m     \u001B[38;5;28;01mreturn\u001B[39;00m obj\u001B[38;5;241m.\u001B[39m_constructor_expanddim(\u001B[38;5;28mlist\u001B[39m(mapped), index\u001B[38;5;241m=\u001B[39mobj\u001B[38;5;241m.\u001B[39mindex)\n",
      "File \u001B[1;32m~\\AppData\\Local\\Programs\\Python\\Python312\\Lib\\site-packages\\pandas\\core\\base.py:921\u001B[0m, in \u001B[0;36mIndexOpsMixin._map_values\u001B[1;34m(self, mapper, na_action, convert)\u001B[0m\n\u001B[0;32m    918\u001B[0m \u001B[38;5;28;01mif\u001B[39;00m \u001B[38;5;28misinstance\u001B[39m(arr, ExtensionArray):\n\u001B[0;32m    919\u001B[0m     \u001B[38;5;28;01mreturn\u001B[39;00m arr\u001B[38;5;241m.\u001B[39mmap(mapper, na_action\u001B[38;5;241m=\u001B[39mna_action)\n\u001B[1;32m--> 921\u001B[0m \u001B[38;5;28;01mreturn\u001B[39;00m \u001B[43malgorithms\u001B[49m\u001B[38;5;241;43m.\u001B[39;49m\u001B[43mmap_array\u001B[49m\u001B[43m(\u001B[49m\u001B[43marr\u001B[49m\u001B[43m,\u001B[49m\u001B[43m \u001B[49m\u001B[43mmapper\u001B[49m\u001B[43m,\u001B[49m\u001B[43m \u001B[49m\u001B[43mna_action\u001B[49m\u001B[38;5;241;43m=\u001B[39;49m\u001B[43mna_action\u001B[49m\u001B[43m,\u001B[49m\u001B[43m \u001B[49m\u001B[43mconvert\u001B[49m\u001B[38;5;241;43m=\u001B[39;49m\u001B[43mconvert\u001B[49m\u001B[43m)\u001B[49m\n",
      "File \u001B[1;32m~\\AppData\\Local\\Programs\\Python\\Python312\\Lib\\site-packages\\pandas\\core\\algorithms.py:1743\u001B[0m, in \u001B[0;36mmap_array\u001B[1;34m(arr, mapper, na_action, convert)\u001B[0m\n\u001B[0;32m   1741\u001B[0m values \u001B[38;5;241m=\u001B[39m arr\u001B[38;5;241m.\u001B[39mastype(\u001B[38;5;28mobject\u001B[39m, copy\u001B[38;5;241m=\u001B[39m\u001B[38;5;28;01mFalse\u001B[39;00m)\n\u001B[0;32m   1742\u001B[0m \u001B[38;5;28;01mif\u001B[39;00m na_action \u001B[38;5;129;01mis\u001B[39;00m \u001B[38;5;28;01mNone\u001B[39;00m:\n\u001B[1;32m-> 1743\u001B[0m     \u001B[38;5;28;01mreturn\u001B[39;00m \u001B[43mlib\u001B[49m\u001B[38;5;241;43m.\u001B[39;49m\u001B[43mmap_infer\u001B[49m\u001B[43m(\u001B[49m\u001B[43mvalues\u001B[49m\u001B[43m,\u001B[49m\u001B[43m \u001B[49m\u001B[43mmapper\u001B[49m\u001B[43m,\u001B[49m\u001B[43m \u001B[49m\u001B[43mconvert\u001B[49m\u001B[38;5;241;43m=\u001B[39;49m\u001B[43mconvert\u001B[49m\u001B[43m)\u001B[49m\n\u001B[0;32m   1744\u001B[0m \u001B[38;5;28;01melse\u001B[39;00m:\n\u001B[0;32m   1745\u001B[0m     \u001B[38;5;28;01mreturn\u001B[39;00m lib\u001B[38;5;241m.\u001B[39mmap_infer_mask(\n\u001B[0;32m   1746\u001B[0m         values, mapper, mask\u001B[38;5;241m=\u001B[39misna(values)\u001B[38;5;241m.\u001B[39mview(np\u001B[38;5;241m.\u001B[39muint8), convert\u001B[38;5;241m=\u001B[39mconvert\n\u001B[0;32m   1747\u001B[0m     )\n",
      "File \u001B[1;32mlib.pyx:2972\u001B[0m, in \u001B[0;36mpandas._libs.lib.map_infer\u001B[1;34m()\u001B[0m\n",
      "Cell \u001B[1;32mIn[11], line 4\u001B[0m, in \u001B[0;36mrecommend_institutions.<locals>.<lambda>\u001B[1;34m(x)\u001B[0m\n\u001B[0;32m      1\u001B[0m \u001B[38;5;28;01mdef\u001B[39;00m \u001B[38;5;21mrecommend_institutions\u001B[39m(input_text, top_n\u001B[38;5;241m=\u001B[39m\u001B[38;5;241m5\u001B[39m):\n\u001B[0;32m      2\u001B[0m     input_embedding \u001B[38;5;241m=\u001B[39m model\u001B[38;5;241m.\u001B[39mencode([input_text])\n\u001B[1;32m----> 4\u001B[0m     df[\u001B[38;5;124m\"\u001B[39m\u001B[38;5;124msimilarity\u001B[39m\u001B[38;5;124m\"\u001B[39m] \u001B[38;5;241m=\u001B[39m df[\u001B[38;5;124m\"\u001B[39m\u001B[38;5;124membeddings\u001B[39m\u001B[38;5;124m\"\u001B[39m]\u001B[38;5;241m.\u001B[39mapply(\u001B[38;5;28;01mlambda\u001B[39;00m x: \u001B[43mcosine_similarity\u001B[49m\u001B[43m(\u001B[49m\u001B[43m[\u001B[49m\u001B[43mx\u001B[49m\u001B[43m]\u001B[49m\u001B[43m,\u001B[49m\u001B[43m \u001B[49m\u001B[43minput_embedding\u001B[49m\u001B[43m)\u001B[49m[\u001B[38;5;241m0\u001B[39m][\u001B[38;5;241m0\u001B[39m])\n\u001B[0;32m      6\u001B[0m     recommendations \u001B[38;5;241m=\u001B[39m df\u001B[38;5;241m.\u001B[39msort_values(by\u001B[38;5;241m=\u001B[39m\u001B[38;5;124m\"\u001B[39m\u001B[38;5;124msimilarity\u001B[39m\u001B[38;5;124m\"\u001B[39m, ascending\u001B[38;5;241m=\u001B[39m\u001B[38;5;28;01mFalse\u001B[39;00m)\u001B[38;5;241m.\u001B[39mhead(top_n)\n\u001B[0;32m      8\u001B[0m     \u001B[38;5;28;01mreturn\u001B[39;00m recommendations[[\u001B[38;5;124m\"\u001B[39m\u001B[38;5;124minstitution_name\u001B[39m\u001B[38;5;124m\"\u001B[39m, \u001B[38;5;124m\"\u001B[39m\u001B[38;5;124minstitution_type\u001B[39m\u001B[38;5;124m\"\u001B[39m,\u001B[38;5;124m\"\u001B[39m\u001B[38;5;124mstate\u001B[39m\u001B[38;5;124m\"\u001B[39m,\u001B[38;5;124m\"\u001B[39m\u001B[38;5;124mdistrict\u001B[39m\u001B[38;5;124m\"\u001B[39m, \u001B[38;5;124m\"\u001B[39m\u001B[38;5;124msimilarity\u001B[39m\u001B[38;5;124m\"\u001B[39m]]\n",
      "File \u001B[1;32m~\\AppData\\Local\\Programs\\Python\\Python312\\Lib\\site-packages\\sklearn\\utils\\_param_validation.py:216\u001B[0m, in \u001B[0;36mvalidate_params.<locals>.decorator.<locals>.wrapper\u001B[1;34m(*args, **kwargs)\u001B[0m\n\u001B[0;32m    210\u001B[0m \u001B[38;5;28;01mtry\u001B[39;00m:\n\u001B[0;32m    211\u001B[0m     \u001B[38;5;28;01mwith\u001B[39;00m config_context(\n\u001B[0;32m    212\u001B[0m         skip_parameter_validation\u001B[38;5;241m=\u001B[39m(\n\u001B[0;32m    213\u001B[0m             prefer_skip_nested_validation \u001B[38;5;129;01mor\u001B[39;00m global_skip_validation\n\u001B[0;32m    214\u001B[0m         )\n\u001B[0;32m    215\u001B[0m     ):\n\u001B[1;32m--> 216\u001B[0m         \u001B[38;5;28;01mreturn\u001B[39;00m \u001B[43mfunc\u001B[49m\u001B[43m(\u001B[49m\u001B[38;5;241;43m*\u001B[39;49m\u001B[43margs\u001B[49m\u001B[43m,\u001B[49m\u001B[43m \u001B[49m\u001B[38;5;241;43m*\u001B[39;49m\u001B[38;5;241;43m*\u001B[39;49m\u001B[43mkwargs\u001B[49m\u001B[43m)\u001B[49m\n\u001B[0;32m    217\u001B[0m \u001B[38;5;28;01mexcept\u001B[39;00m InvalidParameterError \u001B[38;5;28;01mas\u001B[39;00m e:\n\u001B[0;32m    218\u001B[0m     \u001B[38;5;66;03m# When the function is just a wrapper around an estimator, we allow\u001B[39;00m\n\u001B[0;32m    219\u001B[0m     \u001B[38;5;66;03m# the function to delegate validation to the estimator, but we replace\u001B[39;00m\n\u001B[0;32m    220\u001B[0m     \u001B[38;5;66;03m# the name of the estimator by the name of the function in the error\u001B[39;00m\n\u001B[0;32m    221\u001B[0m     \u001B[38;5;66;03m# message to avoid confusion.\u001B[39;00m\n\u001B[0;32m    222\u001B[0m     msg \u001B[38;5;241m=\u001B[39m re\u001B[38;5;241m.\u001B[39msub(\n\u001B[0;32m    223\u001B[0m         \u001B[38;5;124mr\u001B[39m\u001B[38;5;124m\"\u001B[39m\u001B[38;5;124mparameter of \u001B[39m\u001B[38;5;124m\\\u001B[39m\u001B[38;5;124mw+ must be\u001B[39m\u001B[38;5;124m\"\u001B[39m,\n\u001B[0;32m    224\u001B[0m         \u001B[38;5;124mf\u001B[39m\u001B[38;5;124m\"\u001B[39m\u001B[38;5;124mparameter of \u001B[39m\u001B[38;5;132;01m{\u001B[39;00mfunc\u001B[38;5;241m.\u001B[39m\u001B[38;5;18m__qualname__\u001B[39m\u001B[38;5;132;01m}\u001B[39;00m\u001B[38;5;124m must be\u001B[39m\u001B[38;5;124m\"\u001B[39m,\n\u001B[0;32m    225\u001B[0m         \u001B[38;5;28mstr\u001B[39m(e),\n\u001B[0;32m    226\u001B[0m     )\n",
      "File \u001B[1;32m~\\AppData\\Local\\Programs\\Python\\Python312\\Lib\\site-packages\\sklearn\\metrics\\pairwise.py:1741\u001B[0m, in \u001B[0;36mcosine_similarity\u001B[1;34m(X, Y, dense_output)\u001B[0m\n\u001B[0;32m   1695\u001B[0m \u001B[38;5;250m\u001B[39m\u001B[38;5;124;03m\"\"\"Compute cosine similarity between samples in X and Y.\u001B[39;00m\n\u001B[0;32m   1696\u001B[0m \n\u001B[0;32m   1697\u001B[0m \u001B[38;5;124;03mCosine similarity, or the cosine kernel, computes similarity as the\u001B[39;00m\n\u001B[1;32m   (...)\u001B[0m\n\u001B[0;32m   1737\u001B[0m \u001B[38;5;124;03m       [0.57..., 0.81...]])\u001B[39;00m\n\u001B[0;32m   1738\u001B[0m \u001B[38;5;124;03m\"\"\"\u001B[39;00m\n\u001B[0;32m   1739\u001B[0m \u001B[38;5;66;03m# to avoid recursive import\u001B[39;00m\n\u001B[1;32m-> 1741\u001B[0m X, Y \u001B[38;5;241m=\u001B[39m \u001B[43mcheck_pairwise_arrays\u001B[49m\u001B[43m(\u001B[49m\u001B[43mX\u001B[49m\u001B[43m,\u001B[49m\u001B[43m \u001B[49m\u001B[43mY\u001B[49m\u001B[43m)\u001B[49m\n\u001B[0;32m   1743\u001B[0m X_normalized \u001B[38;5;241m=\u001B[39m normalize(X, copy\u001B[38;5;241m=\u001B[39m\u001B[38;5;28;01mTrue\u001B[39;00m)\n\u001B[0;32m   1744\u001B[0m \u001B[38;5;28;01mif\u001B[39;00m X \u001B[38;5;129;01mis\u001B[39;00m Y:\n",
      "File \u001B[1;32m~\\AppData\\Local\\Programs\\Python\\Python312\\Lib\\site-packages\\sklearn\\metrics\\pairwise.py:200\u001B[0m, in \u001B[0;36mcheck_pairwise_arrays\u001B[1;34m(X, Y, precomputed, dtype, accept_sparse, force_all_finite, ensure_all_finite, ensure_2d, copy)\u001B[0m\n\u001B[0;32m    190\u001B[0m     X \u001B[38;5;241m=\u001B[39m Y \u001B[38;5;241m=\u001B[39m check_array(\n\u001B[0;32m    191\u001B[0m         X,\n\u001B[0;32m    192\u001B[0m         accept_sparse\u001B[38;5;241m=\u001B[39maccept_sparse,\n\u001B[1;32m   (...)\u001B[0m\n\u001B[0;32m    197\u001B[0m         ensure_2d\u001B[38;5;241m=\u001B[39mensure_2d,\n\u001B[0;32m    198\u001B[0m     )\n\u001B[0;32m    199\u001B[0m \u001B[38;5;28;01melse\u001B[39;00m:\n\u001B[1;32m--> 200\u001B[0m     X \u001B[38;5;241m=\u001B[39m \u001B[43mcheck_array\u001B[49m\u001B[43m(\u001B[49m\n\u001B[0;32m    201\u001B[0m \u001B[43m        \u001B[49m\u001B[43mX\u001B[49m\u001B[43m,\u001B[49m\n\u001B[0;32m    202\u001B[0m \u001B[43m        \u001B[49m\u001B[43maccept_sparse\u001B[49m\u001B[38;5;241;43m=\u001B[39;49m\u001B[43maccept_sparse\u001B[49m\u001B[43m,\u001B[49m\n\u001B[0;32m    203\u001B[0m \u001B[43m        \u001B[49m\u001B[43mdtype\u001B[49m\u001B[38;5;241;43m=\u001B[39;49m\u001B[43mdtype\u001B[49m\u001B[43m,\u001B[49m\n\u001B[0;32m    204\u001B[0m \u001B[43m        \u001B[49m\u001B[43mcopy\u001B[49m\u001B[38;5;241;43m=\u001B[39;49m\u001B[43mcopy\u001B[49m\u001B[43m,\u001B[49m\n\u001B[0;32m    205\u001B[0m \u001B[43m        \u001B[49m\u001B[43mensure_all_finite\u001B[49m\u001B[38;5;241;43m=\u001B[39;49m\u001B[43mensure_all_finite\u001B[49m\u001B[43m,\u001B[49m\n\u001B[0;32m    206\u001B[0m \u001B[43m        \u001B[49m\u001B[43mestimator\u001B[49m\u001B[38;5;241;43m=\u001B[39;49m\u001B[43mestimator\u001B[49m\u001B[43m,\u001B[49m\n\u001B[0;32m    207\u001B[0m \u001B[43m        \u001B[49m\u001B[43mensure_2d\u001B[49m\u001B[38;5;241;43m=\u001B[39;49m\u001B[43mensure_2d\u001B[49m\u001B[43m,\u001B[49m\n\u001B[0;32m    208\u001B[0m \u001B[43m    \u001B[49m\u001B[43m)\u001B[49m\n\u001B[0;32m    209\u001B[0m     Y \u001B[38;5;241m=\u001B[39m check_array(\n\u001B[0;32m    210\u001B[0m         Y,\n\u001B[0;32m    211\u001B[0m         accept_sparse\u001B[38;5;241m=\u001B[39maccept_sparse,\n\u001B[1;32m   (...)\u001B[0m\n\u001B[0;32m    216\u001B[0m         ensure_2d\u001B[38;5;241m=\u001B[39mensure_2d,\n\u001B[0;32m    217\u001B[0m     )\n\u001B[0;32m    219\u001B[0m \u001B[38;5;28;01mif\u001B[39;00m precomputed:\n",
      "File \u001B[1;32m~\\AppData\\Local\\Programs\\Python\\Python312\\Lib\\site-packages\\sklearn\\utils\\validation.py:1055\u001B[0m, in \u001B[0;36mcheck_array\u001B[1;34m(array, accept_sparse, accept_large_sparse, dtype, order, copy, force_writeable, force_all_finite, ensure_all_finite, ensure_non_negative, ensure_2d, allow_nd, ensure_min_samples, ensure_min_features, estimator, input_name)\u001B[0m\n\u001B[0;32m   1053\u001B[0m         array \u001B[38;5;241m=\u001B[39m xp\u001B[38;5;241m.\u001B[39mastype(array, dtype, copy\u001B[38;5;241m=\u001B[39m\u001B[38;5;28;01mFalse\u001B[39;00m)\n\u001B[0;32m   1054\u001B[0m     \u001B[38;5;28;01melse\u001B[39;00m:\n\u001B[1;32m-> 1055\u001B[0m         array \u001B[38;5;241m=\u001B[39m \u001B[43m_asarray_with_order\u001B[49m\u001B[43m(\u001B[49m\u001B[43marray\u001B[49m\u001B[43m,\u001B[49m\u001B[43m \u001B[49m\u001B[43morder\u001B[49m\u001B[38;5;241;43m=\u001B[39;49m\u001B[43morder\u001B[49m\u001B[43m,\u001B[49m\u001B[43m \u001B[49m\u001B[43mdtype\u001B[49m\u001B[38;5;241;43m=\u001B[39;49m\u001B[43mdtype\u001B[49m\u001B[43m,\u001B[49m\u001B[43m \u001B[49m\u001B[43mxp\u001B[49m\u001B[38;5;241;43m=\u001B[39;49m\u001B[43mxp\u001B[49m\u001B[43m)\u001B[49m\n\u001B[0;32m   1056\u001B[0m \u001B[38;5;28;01mexcept\u001B[39;00m ComplexWarning \u001B[38;5;28;01mas\u001B[39;00m complex_warning:\n\u001B[0;32m   1057\u001B[0m     \u001B[38;5;28;01mraise\u001B[39;00m \u001B[38;5;167;01mValueError\u001B[39;00m(\n\u001B[0;32m   1058\u001B[0m         \u001B[38;5;124m\"\u001B[39m\u001B[38;5;124mComplex data not supported\u001B[39m\u001B[38;5;130;01m\\n\u001B[39;00m\u001B[38;5;132;01m{}\u001B[39;00m\u001B[38;5;130;01m\\n\u001B[39;00m\u001B[38;5;124m\"\u001B[39m\u001B[38;5;241m.\u001B[39mformat(array)\n\u001B[0;32m   1059\u001B[0m     ) \u001B[38;5;28;01mfrom\u001B[39;00m \u001B[38;5;21;01mcomplex_warning\u001B[39;00m\n",
      "File \u001B[1;32m~\\AppData\\Local\\Programs\\Python\\Python312\\Lib\\site-packages\\sklearn\\utils\\_array_api.py:839\u001B[0m, in \u001B[0;36m_asarray_with_order\u001B[1;34m(array, dtype, order, copy, xp, device)\u001B[0m\n\u001B[0;32m    837\u001B[0m     array \u001B[38;5;241m=\u001B[39m numpy\u001B[38;5;241m.\u001B[39marray(array, order\u001B[38;5;241m=\u001B[39morder, dtype\u001B[38;5;241m=\u001B[39mdtype)\n\u001B[0;32m    838\u001B[0m \u001B[38;5;28;01melse\u001B[39;00m:\n\u001B[1;32m--> 839\u001B[0m     array \u001B[38;5;241m=\u001B[39m \u001B[43mnumpy\u001B[49m\u001B[38;5;241;43m.\u001B[39;49m\u001B[43masarray\u001B[49m\u001B[43m(\u001B[49m\u001B[43marray\u001B[49m\u001B[43m,\u001B[49m\u001B[43m \u001B[49m\u001B[43morder\u001B[49m\u001B[38;5;241;43m=\u001B[39;49m\u001B[43morder\u001B[49m\u001B[43m,\u001B[49m\u001B[43m \u001B[49m\u001B[43mdtype\u001B[49m\u001B[38;5;241;43m=\u001B[39;49m\u001B[43mdtype\u001B[49m\u001B[43m)\u001B[49m\n\u001B[0;32m    841\u001B[0m \u001B[38;5;66;03m# At this point array is a NumPy ndarray. We convert it to an array\u001B[39;00m\n\u001B[0;32m    842\u001B[0m \u001B[38;5;66;03m# container that is consistent with the input's namespace.\u001B[39;00m\n\u001B[0;32m    843\u001B[0m \u001B[38;5;28;01mreturn\u001B[39;00m xp\u001B[38;5;241m.\u001B[39masarray(array)\n",
      "\u001B[1;31mValueError\u001B[0m: could not convert string to float: np.str_('-0.03530252,0.0064196526,-0.07201576,0.023692722,-0.056339562,0.019086093,0.023308598,0.025236547,0.00885907,-0.0411247,-0.081134506,-0.0766668,-0.0077440212,-0.027109034,0.021381702,0.03869729,0.0012206298,0.0065558017,0.005865023,0.010592566,-0.02493093,0.03734141,0.027192272,-0.016446657,-0.04424791,-0.062063612,0.023993254,-0.05773852,-0.067911215,-0.017411767,0.016547771,0.09964489,0.04593358,0.043874383,0.020923482,0.031729393,-0.043237586,0.024583023,0.09198084,-0.050564364,-0.025870224,-0.052134,0.00023621366,-0.08502676,0.106978446,-0.039673142,-0.085721135,0.042256314,0.02900124,-0.0063429074,-0.12465266,-0.0058370237,-0.0866007,0.011582283,-0.021410095,0.0057165595,0.052764103,0.04965156,-0.016462859,0.010021135,0.0063680224,0.0012432691,0.09075903,0.04620698,0.06735048,0.026007287,-0.04547051,0.07756353,-0.00431938,-0.05065807,0.042271294,-0.07338525,-0.10170856,0.052630857,0.028921448,-0.03828597,0.03618791,0.095118426,0.0020770289,-0.000428471,-0.0048039267,0.035762,-0.054317594,0.05451925,-0.055405598,-0.04567617,-0.044526428,-0.031139765,0.04273699,0.08899418,0.09379213,-0.012065521,-0.026601024,-0.047160234,0.008953967,-0.11767585,-0.07853174,-0.006718567,0.091218896,0.0093485,-0.029943962,0.03722687,-0.030932091,-0.0011332838,-0.09574936,-0.010947217,0.18844476,-0.03601307,0.012358756,-0.013203261,0.001817024,0.024628196,-0.01697461,-0.05241741,-0.004557152,0.03519489,0.012977625,0.056820076,0.09312967,0.03806838,-0.07976807,0.05959552,-0.007872309,-0.14785782,-0.061974365,-0.054597847,-0.0607787,9.4035755e-34,0.02034811,0.040049292,0.00063051056,0.030698573,-0.011304071,0.047747493,-0.014621179,-0.030071296,-0.033663947,0.06867721,-0.0038404688,0.08820231,-0.031121874,-0.043605097,0.070332356,0.03976138,-0.033088587,0.061466403,0.028419632,0.048706498,0.040377896,-0.0425359,0.009541826,-0.114919916,0.0382606,0.053957112,0.099972665,0.07181931,0.011715751,-0.0035285058,0.081851125,-0.021016406,-0.098168716,-0.031890005,0.020971559,-0.044984993,-0.0752899,0.026059873,0.06482268,-0.035097264,-0.092220746,0.029581903,0.043362945,-0.0044567543,-0.06704011,0.095506765,0.056262363,0.042271875,0.06729395,0.008924917,-0.03523991,-0.12296948,0.033310395,-0.008295826,0.06290917,-0.00963065,0.045081433,-0.04527507,-0.008567873,-0.010760879,0.011289905,0.0357952,-0.060549162,-0.022923606,-0.074764304,0.0013042267,-0.06481353,-0.010612141,0.08062529,-0.15482523,-0.0025879228,-0.02310113,0.027057715,0.010758852,-0.02936544,0.018406201,0.03263586,-0.0046587153,0.021861726,0.055361897,0.0059186113,0.0151651595,0.1125149,-0.02935299,0.034413073,0.05415053,0.038327347,-0.06294198,0.051494323,0.005618455,0.031916358,-0.061070506,0.005185424,0.13307954,0.013870829,-2.1883985e-33,0.037047382,0.00048606665,-0.029217022,-0.055078913,-0.00036330736,-0.043564845,0.057467893,-0.013675668,0.037809804,-0.029924234,-0.032606717,-0.03442084,0.012542321,0.10186898,0.009064306,-0.025084142,0.06757129,-0.029643059,-0.062453892,-0.01447617,-0.060475715,0.057641085,0.05626208,-0.041990258,0.02388311,0.027248789,-0.009946926,0.06151427,-0.05460985,0.020569336,0.05900859,-0.028273227,-0.07458751,0.05555753,-0.002513636,-0.11439965,0.013207165,-0.04717152,0.06909927,0.049693275,0.03222734,-0.018973656,-0.03418949,0.02288856,0.05942383,-0.019833833,0.07536789,-0.0006202528,0.0553755,-0.017731976,-0.003999979,-0.01742084,0.05538523,-0.006632953,0.04169104,0.0038233635,0.07556798,-0.058453735,-0.026502334,0.011348588,0.08909083,0.041352306,0.078042865,0.033159576,-0.08746465,0.042408068,0.10452203,0.007123736,-0.020060204,-0.08229377,0.025400268,-0.033286702,-0.0031510184,-0.02299352,-0.09038988,0.06271703,-0.03117484,-0.038854536,0.023835633,-0.006961143,-0.077872485,-0.0033863375,-0.05156429,0.02240595,-0.020544467,-0.026971592,0.0171014,-0.086198166,0.023030901,-0.059828438,-0.059704024,0.046880867,0.035565544,0.02501567,-0.026649518,-4.6069456e-08,-0.025386907,-0.120371826,-0.05251248,-0.006093906,-0.0029428867,-0.09210885,-0.06385284,-0.09942722,0.009050759,-0.023538135,-0.033281036,0.0009930012,-0.098139666,-0.03462232,0.00776742,-0.004129426,0.053246878,0.024017496,0.030765764,0.016573725,0.11681264,-0.04802001,0.0006354624,-0.004632758,-0.06706882,-0.038624547,0.046366483,-0.0014346258,0.07154622,-0.04760572,0.0144553175,0.009233164,0.06527893,-0.031086879,-0.025897123,-0.0043211416,0.07921102,0.0038733745,0.017549189,0.054952152,-0.061238926,-0.07539788,0.052584488,0.0070220046,-0.010183553,0.0014008832,-0.015491495,0.032976262,0.057372067,-0.024103232,-0.022846913,-0.012023619,0.0054689464,-0.03932054,0.02319645,0.044351492,-0.0044164145,0.004157371,-0.035159294,0.08072808,-0.006776317,-0.07878504,-0.010425547,-0.02128752')"
     ]
    }
   ],
   "execution_count": 12
  },
  {
   "cell_type": "code",
   "id": "12bbdf54-a58b-42fe-aa42-443e730dde68",
   "metadata": {},
   "source": [],
   "outputs": [],
   "execution_count": null
  }
 ],
 "metadata": {
  "kernelspec": {
   "display_name": "Python 3 (ipykernel)",
   "language": "python",
   "name": "python3"
  },
  "language_info": {
   "codemirror_mode": {
    "name": "ipython",
    "version": 3
   },
   "file_extension": ".py",
   "mimetype": "text/x-python",
   "name": "python",
   "nbconvert_exporter": "python",
   "pygments_lexer": "ipython3",
   "version": "3.12.9"
  }
 },
 "nbformat": 4,
 "nbformat_minor": 5
}
