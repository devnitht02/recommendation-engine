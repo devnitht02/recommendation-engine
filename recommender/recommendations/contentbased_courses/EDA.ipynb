{
 "cells": [
  {
   "cell_type": "code",
   "id": "initial_id",
   "metadata": {
    "collapsed": true,
    "ExecuteTime": {
     "end_time": "2025-03-18T09:48:29.736638Z",
     "start_time": "2025-03-18T09:48:29.001633Z"
    }
   },
   "source": [
    "import pandas as pd\n",
    "import sns\n",
    "from matplotlib import pyplot as plt"
   ],
   "outputs": [],
   "execution_count": 1
  },
  {
   "metadata": {
    "ExecuteTime": {
     "end_time": "2025-03-18T09:48:29.852815Z",
     "start_time": "2025-03-18T09:48:29.739159Z"
    }
   },
   "cell_type": "code",
   "source": "df = pd.read_csv(\"../DataSets/institutions_with_course_name.csv\")",
   "id": "a87b0a7f58e74143",
   "outputs": [],
   "execution_count": 2
  },
  {
   "metadata": {
    "ExecuteTime": {
     "end_time": "2025-03-18T09:48:29.865229Z",
     "start_time": "2025-03-18T09:48:29.853064Z"
    }
   },
   "cell_type": "code",
   "source": "df.head()",
   "id": "b0da828222341a3e",
   "outputs": [
    {
     "data": {
      "text/plain": [
       "   20  Vellore Institute of Technology  \\N  Andhra Pradesh  Guntur  \\\n",
       "0  20  Vellore Institute of Technology  \\N  Andhra Pradesh  Guntur   \n",
       "1  20  Vellore Institute of Technology  \\N  Andhra Pradesh  Guntur   \n",
       "2  20  Vellore Institute of Technology  \\N  Andhra Pradesh  Guntur   \n",
       "3  20  Vellore Institute of Technology  \\N  Andhra Pradesh  Guntur   \n",
       "4  20  Vellore Institute of Technology  \\N  Andhra Pradesh  Guntur   \n",
       "\n",
       "  BA Public Services with Integrated MA program combines undergraduate and postgraduate studies in public services, covering areas like public administration, policy analysis, law, and management. Students gain in-depth knowledge and skills necessary for careers in government agencies, non-profit organizations, international development, and public policy research, focusing on addressing societal challenges and shaping public service delivery at local, national, and international levels.  \\\n",
       "0  Bachelor of Commerce (BCom) in Finance is a pr...                                                                                                                                                                                                                                                                                                                                                                                                                                                           \n",
       "1  B.Tech (Bachelor of Technology) program in Com...                                                                                                                                                                                                                                                                                                                                                                                                                                                           \n",
       "2  Bachelor of Technology (B.Tech) in Computer Sc...                                                                                                                                                                                                                                                                                                                                                                                                                                                           \n",
       "3  B.Tech in Computer Science and Engineering (Sp...                                                                                                                                                                                                                                                                                                                                                                                                                                                           \n",
       "4  B.Tech in Computer Science and Engineering wit...                                                                                                                                                                                                                                                                                                                                                                                                                                                           \n",
       "\n",
       "         Bachelor of Arts     B.A         Arts  \\\n",
       "0    Bachelor of Commerce   B.Com     Commerce   \n",
       "1  Bachelor of Technology  B.Tech  Engineering   \n",
       "2  Bachelor of Technology  B.Tech  Engineering   \n",
       "3  Bachelor of Technology  B.Tech  Engineering   \n",
       "4  Bachelor of Technology  B.Tech  Engineering   \n",
       "\n",
       "                  Public Services with Integrated MA  \n",
       "0                                            Finance  \n",
       "1  Computer Science and Engineering (Business Sys...  \n",
       "2                   Computer Science and Engineering  \n",
       "3  Computer Science and Engineering (Specializati...  \n",
       "4  Computer Science and Engineering (Specializati...  "
      ],
      "text/html": [
       "<div>\n",
       "<style scoped>\n",
       "    .dataframe tbody tr th:only-of-type {\n",
       "        vertical-align: middle;\n",
       "    }\n",
       "\n",
       "    .dataframe tbody tr th {\n",
       "        vertical-align: top;\n",
       "    }\n",
       "\n",
       "    .dataframe thead th {\n",
       "        text-align: right;\n",
       "    }\n",
       "</style>\n",
       "<table border=\"1\" class=\"dataframe\">\n",
       "  <thead>\n",
       "    <tr style=\"text-align: right;\">\n",
       "      <th></th>\n",
       "      <th>20</th>\n",
       "      <th>Vellore Institute of Technology</th>\n",
       "      <th>\\N</th>\n",
       "      <th>Andhra Pradesh</th>\n",
       "      <th>Guntur</th>\n",
       "      <th>BA Public Services with Integrated MA program combines undergraduate and postgraduate studies in public services, covering areas like public administration, policy analysis, law, and management. Students gain in-depth knowledge and skills necessary for careers in government agencies, non-profit organizations, international development, and public policy research, focusing on addressing societal challenges and shaping public service delivery at local, national, and international levels.</th>\n",
       "      <th>Bachelor of Arts</th>\n",
       "      <th>B.A</th>\n",
       "      <th>Arts</th>\n",
       "      <th>Public Services with Integrated MA</th>\n",
       "    </tr>\n",
       "  </thead>\n",
       "  <tbody>\n",
       "    <tr>\n",
       "      <th>0</th>\n",
       "      <td>20</td>\n",
       "      <td>Vellore Institute of Technology</td>\n",
       "      <td>\\N</td>\n",
       "      <td>Andhra Pradesh</td>\n",
       "      <td>Guntur</td>\n",
       "      <td>Bachelor of Commerce (BCom) in Finance is a pr...</td>\n",
       "      <td>Bachelor of Commerce</td>\n",
       "      <td>B.Com</td>\n",
       "      <td>Commerce</td>\n",
       "      <td>Finance</td>\n",
       "    </tr>\n",
       "    <tr>\n",
       "      <th>1</th>\n",
       "      <td>20</td>\n",
       "      <td>Vellore Institute of Technology</td>\n",
       "      <td>\\N</td>\n",
       "      <td>Andhra Pradesh</td>\n",
       "      <td>Guntur</td>\n",
       "      <td>B.Tech (Bachelor of Technology) program in Com...</td>\n",
       "      <td>Bachelor of Technology</td>\n",
       "      <td>B.Tech</td>\n",
       "      <td>Engineering</td>\n",
       "      <td>Computer Science and Engineering (Business Sys...</td>\n",
       "    </tr>\n",
       "    <tr>\n",
       "      <th>2</th>\n",
       "      <td>20</td>\n",
       "      <td>Vellore Institute of Technology</td>\n",
       "      <td>\\N</td>\n",
       "      <td>Andhra Pradesh</td>\n",
       "      <td>Guntur</td>\n",
       "      <td>Bachelor of Technology (B.Tech) in Computer Sc...</td>\n",
       "      <td>Bachelor of Technology</td>\n",
       "      <td>B.Tech</td>\n",
       "      <td>Engineering</td>\n",
       "      <td>Computer Science and Engineering</td>\n",
       "    </tr>\n",
       "    <tr>\n",
       "      <th>3</th>\n",
       "      <td>20</td>\n",
       "      <td>Vellore Institute of Technology</td>\n",
       "      <td>\\N</td>\n",
       "      <td>Andhra Pradesh</td>\n",
       "      <td>Guntur</td>\n",
       "      <td>B.Tech in Computer Science and Engineering (Sp...</td>\n",
       "      <td>Bachelor of Technology</td>\n",
       "      <td>B.Tech</td>\n",
       "      <td>Engineering</td>\n",
       "      <td>Computer Science and Engineering (Specializati...</td>\n",
       "    </tr>\n",
       "    <tr>\n",
       "      <th>4</th>\n",
       "      <td>20</td>\n",
       "      <td>Vellore Institute of Technology</td>\n",
       "      <td>\\N</td>\n",
       "      <td>Andhra Pradesh</td>\n",
       "      <td>Guntur</td>\n",
       "      <td>B.Tech in Computer Science and Engineering wit...</td>\n",
       "      <td>Bachelor of Technology</td>\n",
       "      <td>B.Tech</td>\n",
       "      <td>Engineering</td>\n",
       "      <td>Computer Science and Engineering (Specializati...</td>\n",
       "    </tr>\n",
       "  </tbody>\n",
       "</table>\n",
       "</div>"
      ]
     },
     "execution_count": 3,
     "metadata": {},
     "output_type": "execute_result"
    }
   ],
   "execution_count": 3
  },
  {
   "metadata": {
    "ExecuteTime": {
     "end_time": "2025-03-18T09:48:29.868642Z",
     "start_time": "2025-03-18T09:48:29.866744Z"
    }
   },
   "cell_type": "code",
   "source": "",
   "id": "e3056e8259562231",
   "outputs": [],
   "execution_count": 3
  },
  {
   "metadata": {
    "ExecuteTime": {
     "end_time": "2025-03-18T09:48:29.874078Z",
     "start_time": "2025-03-18T09:48:29.870758Z"
    }
   },
   "cell_type": "code",
   "source": "df.columns = [\"id\",\"institution_name\",\"institution_type\",\"state\",\"district\",\"course_description\",\"degree_description\",\"degree_name\",\"stream_name\",\"course_name\"]",
   "id": "38383d3d1336cede",
   "outputs": [],
   "execution_count": 4
  },
  {
   "metadata": {
    "ExecuteTime": {
     "end_time": "2025-03-18T09:48:29.882617Z",
     "start_time": "2025-03-18T09:48:29.874078Z"
    }
   },
   "cell_type": "code",
   "source": "df.head()",
   "id": "823e55a1c42bfb7a",
   "outputs": [
    {
     "data": {
      "text/plain": [
       "   id                 institution_name institution_type           state  \\\n",
       "0  20  Vellore Institute of Technology               \\N  Andhra Pradesh   \n",
       "1  20  Vellore Institute of Technology               \\N  Andhra Pradesh   \n",
       "2  20  Vellore Institute of Technology               \\N  Andhra Pradesh   \n",
       "3  20  Vellore Institute of Technology               \\N  Andhra Pradesh   \n",
       "4  20  Vellore Institute of Technology               \\N  Andhra Pradesh   \n",
       "\n",
       "  district                                 course_description  \\\n",
       "0   Guntur  Bachelor of Commerce (BCom) in Finance is a pr...   \n",
       "1   Guntur  B.Tech (Bachelor of Technology) program in Com...   \n",
       "2   Guntur  Bachelor of Technology (B.Tech) in Computer Sc...   \n",
       "3   Guntur  B.Tech in Computer Science and Engineering (Sp...   \n",
       "4   Guntur  B.Tech in Computer Science and Engineering wit...   \n",
       "\n",
       "       degree_description degree_name  stream_name  \\\n",
       "0    Bachelor of Commerce       B.Com     Commerce   \n",
       "1  Bachelor of Technology      B.Tech  Engineering   \n",
       "2  Bachelor of Technology      B.Tech  Engineering   \n",
       "3  Bachelor of Technology      B.Tech  Engineering   \n",
       "4  Bachelor of Technology      B.Tech  Engineering   \n",
       "\n",
       "                                         course_name  \n",
       "0                                            Finance  \n",
       "1  Computer Science and Engineering (Business Sys...  \n",
       "2                   Computer Science and Engineering  \n",
       "3  Computer Science and Engineering (Specializati...  \n",
       "4  Computer Science and Engineering (Specializati...  "
      ],
      "text/html": [
       "<div>\n",
       "<style scoped>\n",
       "    .dataframe tbody tr th:only-of-type {\n",
       "        vertical-align: middle;\n",
       "    }\n",
       "\n",
       "    .dataframe tbody tr th {\n",
       "        vertical-align: top;\n",
       "    }\n",
       "\n",
       "    .dataframe thead th {\n",
       "        text-align: right;\n",
       "    }\n",
       "</style>\n",
       "<table border=\"1\" class=\"dataframe\">\n",
       "  <thead>\n",
       "    <tr style=\"text-align: right;\">\n",
       "      <th></th>\n",
       "      <th>id</th>\n",
       "      <th>institution_name</th>\n",
       "      <th>institution_type</th>\n",
       "      <th>state</th>\n",
       "      <th>district</th>\n",
       "      <th>course_description</th>\n",
       "      <th>degree_description</th>\n",
       "      <th>degree_name</th>\n",
       "      <th>stream_name</th>\n",
       "      <th>course_name</th>\n",
       "    </tr>\n",
       "  </thead>\n",
       "  <tbody>\n",
       "    <tr>\n",
       "      <th>0</th>\n",
       "      <td>20</td>\n",
       "      <td>Vellore Institute of Technology</td>\n",
       "      <td>\\N</td>\n",
       "      <td>Andhra Pradesh</td>\n",
       "      <td>Guntur</td>\n",
       "      <td>Bachelor of Commerce (BCom) in Finance is a pr...</td>\n",
       "      <td>Bachelor of Commerce</td>\n",
       "      <td>B.Com</td>\n",
       "      <td>Commerce</td>\n",
       "      <td>Finance</td>\n",
       "    </tr>\n",
       "    <tr>\n",
       "      <th>1</th>\n",
       "      <td>20</td>\n",
       "      <td>Vellore Institute of Technology</td>\n",
       "      <td>\\N</td>\n",
       "      <td>Andhra Pradesh</td>\n",
       "      <td>Guntur</td>\n",
       "      <td>B.Tech (Bachelor of Technology) program in Com...</td>\n",
       "      <td>Bachelor of Technology</td>\n",
       "      <td>B.Tech</td>\n",
       "      <td>Engineering</td>\n",
       "      <td>Computer Science and Engineering (Business Sys...</td>\n",
       "    </tr>\n",
       "    <tr>\n",
       "      <th>2</th>\n",
       "      <td>20</td>\n",
       "      <td>Vellore Institute of Technology</td>\n",
       "      <td>\\N</td>\n",
       "      <td>Andhra Pradesh</td>\n",
       "      <td>Guntur</td>\n",
       "      <td>Bachelor of Technology (B.Tech) in Computer Sc...</td>\n",
       "      <td>Bachelor of Technology</td>\n",
       "      <td>B.Tech</td>\n",
       "      <td>Engineering</td>\n",
       "      <td>Computer Science and Engineering</td>\n",
       "    </tr>\n",
       "    <tr>\n",
       "      <th>3</th>\n",
       "      <td>20</td>\n",
       "      <td>Vellore Institute of Technology</td>\n",
       "      <td>\\N</td>\n",
       "      <td>Andhra Pradesh</td>\n",
       "      <td>Guntur</td>\n",
       "      <td>B.Tech in Computer Science and Engineering (Sp...</td>\n",
       "      <td>Bachelor of Technology</td>\n",
       "      <td>B.Tech</td>\n",
       "      <td>Engineering</td>\n",
       "      <td>Computer Science and Engineering (Specializati...</td>\n",
       "    </tr>\n",
       "    <tr>\n",
       "      <th>4</th>\n",
       "      <td>20</td>\n",
       "      <td>Vellore Institute of Technology</td>\n",
       "      <td>\\N</td>\n",
       "      <td>Andhra Pradesh</td>\n",
       "      <td>Guntur</td>\n",
       "      <td>B.Tech in Computer Science and Engineering wit...</td>\n",
       "      <td>Bachelor of Technology</td>\n",
       "      <td>B.Tech</td>\n",
       "      <td>Engineering</td>\n",
       "      <td>Computer Science and Engineering (Specializati...</td>\n",
       "    </tr>\n",
       "  </tbody>\n",
       "</table>\n",
       "</div>"
      ]
     },
     "execution_count": 5,
     "metadata": {},
     "output_type": "execute_result"
    }
   ],
   "execution_count": 5
  },
  {
   "metadata": {
    "ExecuteTime": {
     "end_time": "2025-03-18T09:48:29.903516Z",
     "start_time": "2025-03-18T09:48:29.882617Z"
    }
   },
   "cell_type": "code",
   "source": "df.info()",
   "id": "35043fd3492fa7ef",
   "outputs": [
    {
     "name": "stdout",
     "output_type": "stream",
     "text": [
      "<class 'pandas.core.frame.DataFrame'>\n",
      "RangeIndex: 25295 entries, 0 to 25294\n",
      "Data columns (total 10 columns):\n",
      " #   Column              Non-Null Count  Dtype \n",
      "---  ------              --------------  ----- \n",
      " 0   id                  25295 non-null  int64 \n",
      " 1   institution_name    25295 non-null  object\n",
      " 2   institution_type    25295 non-null  object\n",
      " 3   state               25295 non-null  object\n",
      " 4   district            25295 non-null  object\n",
      " 5   course_description  25284 non-null  object\n",
      " 6   degree_description  25295 non-null  object\n",
      " 7   degree_name         25295 non-null  object\n",
      " 8   stream_name         25295 non-null  object\n",
      " 9   course_name         25295 non-null  object\n",
      "dtypes: int64(1), object(9)\n",
      "memory usage: 1.9+ MB\n"
     ]
    }
   ],
   "execution_count": 6
  },
  {
   "metadata": {
    "ExecuteTime": {
     "end_time": "2025-03-18T09:48:29.917620Z",
     "start_time": "2025-03-18T09:48:29.904526Z"
    }
   },
   "cell_type": "code",
   "source": "df.isnull().sum()",
   "id": "2ffc05efde0d1ed7",
   "outputs": [
    {
     "data": {
      "text/plain": [
       "id                     0\n",
       "institution_name       0\n",
       "institution_type       0\n",
       "state                  0\n",
       "district               0\n",
       "course_description    11\n",
       "degree_description     0\n",
       "degree_name            0\n",
       "stream_name            0\n",
       "course_name            0\n",
       "dtype: int64"
      ]
     },
     "execution_count": 7,
     "metadata": {},
     "output_type": "execute_result"
    }
   ],
   "execution_count": 7
  },
  {
   "metadata": {
    "ExecuteTime": {
     "end_time": "2025-03-18T09:48:29.951580Z",
     "start_time": "2025-03-18T09:48:29.919135Z"
    }
   },
   "cell_type": "code",
   "source": [
    "def dataset_info():\n",
    "    print(\"Dataset Info:\")\n",
    "    print(df.info())\n",
    "    print(\"\\nMissing Values:\")\n",
    "    print(df.isnull().sum())\n",
    "    print(\"\\nUnique Counts:\")\n",
    "    print(f\"Institutions: {df['institution_name'].nunique()}\")\n",
    "    print(f\"States: {df['state'].nunique()}\")\n",
    "    print(f\"districts: {df['district'].nunique()}\")\n",
    "\n",
    "dataset_info()"
   ],
   "id": "3b126a71d0342b3e",
   "outputs": [
    {
     "name": "stdout",
     "output_type": "stream",
     "text": [
      "Dataset Info:\n",
      "<class 'pandas.core.frame.DataFrame'>\n",
      "RangeIndex: 25295 entries, 0 to 25294\n",
      "Data columns (total 10 columns):\n",
      " #   Column              Non-Null Count  Dtype \n",
      "---  ------              --------------  ----- \n",
      " 0   id                  25295 non-null  int64 \n",
      " 1   institution_name    25295 non-null  object\n",
      " 2   institution_type    25295 non-null  object\n",
      " 3   state               25295 non-null  object\n",
      " 4   district            25295 non-null  object\n",
      " 5   course_description  25284 non-null  object\n",
      " 6   degree_description  25295 non-null  object\n",
      " 7   degree_name         25295 non-null  object\n",
      " 8   stream_name         25295 non-null  object\n",
      " 9   course_name         25295 non-null  object\n",
      "dtypes: int64(1), object(9)\n",
      "memory usage: 1.9+ MB\n",
      "None\n",
      "\n",
      "Missing Values:\n",
      "id                     0\n",
      "institution_name       0\n",
      "institution_type       0\n",
      "state                  0\n",
      "district               0\n",
      "course_description    11\n",
      "degree_description     0\n",
      "degree_name            0\n",
      "stream_name            0\n",
      "course_name            0\n",
      "dtype: int64\n",
      "\n",
      "Unique Counts:\n",
      "Institutions: 3376\n",
      "States: 27\n",
      "districts: 208\n"
     ]
    }
   ],
   "execution_count": 8
  },
  {
   "metadata": {
    "ExecuteTime": {
     "end_time": "2025-03-18T09:48:29.963719Z",
     "start_time": "2025-03-18T09:48:29.952593Z"
    }
   },
   "cell_type": "code",
   "source": [
    "course_df = df[[\"id\",\"course_name\",\"course_description\",\"degree_description\",\"degree_name\",\"stream_name\"]]\n",
    " \n",
    " \n",
    "course_df\n",
    " "
   ],
   "id": "6d269624e3336383",
   "outputs": [
    {
     "data": {
      "text/plain": [
       "         id                                        course_name  \\\n",
       "0        20                                            Finance   \n",
       "1        20  Computer Science and Engineering (Business Sys...   \n",
       "2        20                   Computer Science and Engineering   \n",
       "3        20  Computer Science and Engineering (Specializati...   \n",
       "4        20  Computer Science and Engineering (Specializati...   \n",
       "...     ...                                                ...   \n",
       "25290  3468                                     Visual Effects   \n",
       "25291  3503                                     Fashion Design   \n",
       "25292  3503                   Footwear Designs and Productions   \n",
       "25293  3503              Leather, Lifestyle and Product Design   \n",
       "25294  3503                     Retail and Fashion Merchandise   \n",
       "\n",
       "                                      course_description  \\\n",
       "0      Bachelor of Commerce (BCom) in Finance is a pr...   \n",
       "1      B.Tech (Bachelor of Technology) program in Com...   \n",
       "2      Bachelor of Technology (B.Tech) in Computer Sc...   \n",
       "3      B.Tech in Computer Science and Engineering (Sp...   \n",
       "4      B.Tech in Computer Science and Engineering wit...   \n",
       "...                                                  ...   \n",
       "25290  BSC in Visual Effects focuses on digital anima...   \n",
       "25291  Bachelor of Design (BDes) in Fashion Design pr...   \n",
       "25292  Bachelor of Design (BDes) in Footwear Design a...   \n",
       "25293  Bachelor of Design (BDes) in Leather, Lifestyl...   \n",
       "25294  Bachelor of Business Administration (BBA) in R...   \n",
       "\n",
       "                        degree_description degree_name  stream_name  \n",
       "0                     Bachelor of Commerce       B.Com     Commerce  \n",
       "1                   Bachelor of Technology      B.Tech  Engineering  \n",
       "2                   Bachelor of Technology      B.Tech  Engineering  \n",
       "3                   Bachelor of Technology      B.Tech  Engineering  \n",
       "4                   Bachelor of Technology      B.Tech  Engineering  \n",
       "...                                    ...         ...          ...  \n",
       "25290  Bachelor of Science (3years) - B.Sc        B.Sc      Science  \n",
       "25291                   Bachelor of Design       B.Des       Design  \n",
       "25292                   Bachelor of Design       B.Des       Design  \n",
       "25293                   Bachelor of Design       B.Des       Design  \n",
       "25294  Bachelor of Business Administration         BBA   Management  \n",
       "\n",
       "[25295 rows x 6 columns]"
      ],
      "text/html": [
       "<div>\n",
       "<style scoped>\n",
       "    .dataframe tbody tr th:only-of-type {\n",
       "        vertical-align: middle;\n",
       "    }\n",
       "\n",
       "    .dataframe tbody tr th {\n",
       "        vertical-align: top;\n",
       "    }\n",
       "\n",
       "    .dataframe thead th {\n",
       "        text-align: right;\n",
       "    }\n",
       "</style>\n",
       "<table border=\"1\" class=\"dataframe\">\n",
       "  <thead>\n",
       "    <tr style=\"text-align: right;\">\n",
       "      <th></th>\n",
       "      <th>id</th>\n",
       "      <th>course_name</th>\n",
       "      <th>course_description</th>\n",
       "      <th>degree_description</th>\n",
       "      <th>degree_name</th>\n",
       "      <th>stream_name</th>\n",
       "    </tr>\n",
       "  </thead>\n",
       "  <tbody>\n",
       "    <tr>\n",
       "      <th>0</th>\n",
       "      <td>20</td>\n",
       "      <td>Finance</td>\n",
       "      <td>Bachelor of Commerce (BCom) in Finance is a pr...</td>\n",
       "      <td>Bachelor of Commerce</td>\n",
       "      <td>B.Com</td>\n",
       "      <td>Commerce</td>\n",
       "    </tr>\n",
       "    <tr>\n",
       "      <th>1</th>\n",
       "      <td>20</td>\n",
       "      <td>Computer Science and Engineering (Business Sys...</td>\n",
       "      <td>B.Tech (Bachelor of Technology) program in Com...</td>\n",
       "      <td>Bachelor of Technology</td>\n",
       "      <td>B.Tech</td>\n",
       "      <td>Engineering</td>\n",
       "    </tr>\n",
       "    <tr>\n",
       "      <th>2</th>\n",
       "      <td>20</td>\n",
       "      <td>Computer Science and Engineering</td>\n",
       "      <td>Bachelor of Technology (B.Tech) in Computer Sc...</td>\n",
       "      <td>Bachelor of Technology</td>\n",
       "      <td>B.Tech</td>\n",
       "      <td>Engineering</td>\n",
       "    </tr>\n",
       "    <tr>\n",
       "      <th>3</th>\n",
       "      <td>20</td>\n",
       "      <td>Computer Science and Engineering (Specializati...</td>\n",
       "      <td>B.Tech in Computer Science and Engineering (Sp...</td>\n",
       "      <td>Bachelor of Technology</td>\n",
       "      <td>B.Tech</td>\n",
       "      <td>Engineering</td>\n",
       "    </tr>\n",
       "    <tr>\n",
       "      <th>4</th>\n",
       "      <td>20</td>\n",
       "      <td>Computer Science and Engineering (Specializati...</td>\n",
       "      <td>B.Tech in Computer Science and Engineering wit...</td>\n",
       "      <td>Bachelor of Technology</td>\n",
       "      <td>B.Tech</td>\n",
       "      <td>Engineering</td>\n",
       "    </tr>\n",
       "    <tr>\n",
       "      <th>...</th>\n",
       "      <td>...</td>\n",
       "      <td>...</td>\n",
       "      <td>...</td>\n",
       "      <td>...</td>\n",
       "      <td>...</td>\n",
       "      <td>...</td>\n",
       "    </tr>\n",
       "    <tr>\n",
       "      <th>25290</th>\n",
       "      <td>3468</td>\n",
       "      <td>Visual Effects</td>\n",
       "      <td>BSC in Visual Effects focuses on digital anima...</td>\n",
       "      <td>Bachelor of Science (3years) - B.Sc</td>\n",
       "      <td>B.Sc</td>\n",
       "      <td>Science</td>\n",
       "    </tr>\n",
       "    <tr>\n",
       "      <th>25291</th>\n",
       "      <td>3503</td>\n",
       "      <td>Fashion Design</td>\n",
       "      <td>Bachelor of Design (BDes) in Fashion Design pr...</td>\n",
       "      <td>Bachelor of Design</td>\n",
       "      <td>B.Des</td>\n",
       "      <td>Design</td>\n",
       "    </tr>\n",
       "    <tr>\n",
       "      <th>25292</th>\n",
       "      <td>3503</td>\n",
       "      <td>Footwear Designs and Productions</td>\n",
       "      <td>Bachelor of Design (BDes) in Footwear Design a...</td>\n",
       "      <td>Bachelor of Design</td>\n",
       "      <td>B.Des</td>\n",
       "      <td>Design</td>\n",
       "    </tr>\n",
       "    <tr>\n",
       "      <th>25293</th>\n",
       "      <td>3503</td>\n",
       "      <td>Leather, Lifestyle and Product Design</td>\n",
       "      <td>Bachelor of Design (BDes) in Leather, Lifestyl...</td>\n",
       "      <td>Bachelor of Design</td>\n",
       "      <td>B.Des</td>\n",
       "      <td>Design</td>\n",
       "    </tr>\n",
       "    <tr>\n",
       "      <th>25294</th>\n",
       "      <td>3503</td>\n",
       "      <td>Retail and Fashion Merchandise</td>\n",
       "      <td>Bachelor of Business Administration (BBA) in R...</td>\n",
       "      <td>Bachelor of Business Administration</td>\n",
       "      <td>BBA</td>\n",
       "      <td>Management</td>\n",
       "    </tr>\n",
       "  </tbody>\n",
       "</table>\n",
       "<p>25295 rows × 6 columns</p>\n",
       "</div>"
      ]
     },
     "execution_count": 9,
     "metadata": {},
     "output_type": "execute_result"
    }
   ],
   "execution_count": 9
  },
  {
   "metadata": {
    "ExecuteTime": {
     "end_time": "2025-03-18T09:48:29.971791Z",
     "start_time": "2025-03-18T09:48:29.964728Z"
    }
   },
   "cell_type": "code",
   "source": "course_df.head()",
   "id": "33dc84afa61859aa",
   "outputs": [
    {
     "data": {
      "text/plain": [
       "   id                                        course_name  \\\n",
       "0  20                                            Finance   \n",
       "1  20  Computer Science and Engineering (Business Sys...   \n",
       "2  20                   Computer Science and Engineering   \n",
       "3  20  Computer Science and Engineering (Specializati...   \n",
       "4  20  Computer Science and Engineering (Specializati...   \n",
       "\n",
       "                                  course_description      degree_description  \\\n",
       "0  Bachelor of Commerce (BCom) in Finance is a pr...    Bachelor of Commerce   \n",
       "1  B.Tech (Bachelor of Technology) program in Com...  Bachelor of Technology   \n",
       "2  Bachelor of Technology (B.Tech) in Computer Sc...  Bachelor of Technology   \n",
       "3  B.Tech in Computer Science and Engineering (Sp...  Bachelor of Technology   \n",
       "4  B.Tech in Computer Science and Engineering wit...  Bachelor of Technology   \n",
       "\n",
       "  degree_name  stream_name  \n",
       "0       B.Com     Commerce  \n",
       "1      B.Tech  Engineering  \n",
       "2      B.Tech  Engineering  \n",
       "3      B.Tech  Engineering  \n",
       "4      B.Tech  Engineering  "
      ],
      "text/html": [
       "<div>\n",
       "<style scoped>\n",
       "    .dataframe tbody tr th:only-of-type {\n",
       "        vertical-align: middle;\n",
       "    }\n",
       "\n",
       "    .dataframe tbody tr th {\n",
       "        vertical-align: top;\n",
       "    }\n",
       "\n",
       "    .dataframe thead th {\n",
       "        text-align: right;\n",
       "    }\n",
       "</style>\n",
       "<table border=\"1\" class=\"dataframe\">\n",
       "  <thead>\n",
       "    <tr style=\"text-align: right;\">\n",
       "      <th></th>\n",
       "      <th>id</th>\n",
       "      <th>course_name</th>\n",
       "      <th>course_description</th>\n",
       "      <th>degree_description</th>\n",
       "      <th>degree_name</th>\n",
       "      <th>stream_name</th>\n",
       "    </tr>\n",
       "  </thead>\n",
       "  <tbody>\n",
       "    <tr>\n",
       "      <th>0</th>\n",
       "      <td>20</td>\n",
       "      <td>Finance</td>\n",
       "      <td>Bachelor of Commerce (BCom) in Finance is a pr...</td>\n",
       "      <td>Bachelor of Commerce</td>\n",
       "      <td>B.Com</td>\n",
       "      <td>Commerce</td>\n",
       "    </tr>\n",
       "    <tr>\n",
       "      <th>1</th>\n",
       "      <td>20</td>\n",
       "      <td>Computer Science and Engineering (Business Sys...</td>\n",
       "      <td>B.Tech (Bachelor of Technology) program in Com...</td>\n",
       "      <td>Bachelor of Technology</td>\n",
       "      <td>B.Tech</td>\n",
       "      <td>Engineering</td>\n",
       "    </tr>\n",
       "    <tr>\n",
       "      <th>2</th>\n",
       "      <td>20</td>\n",
       "      <td>Computer Science and Engineering</td>\n",
       "      <td>Bachelor of Technology (B.Tech) in Computer Sc...</td>\n",
       "      <td>Bachelor of Technology</td>\n",
       "      <td>B.Tech</td>\n",
       "      <td>Engineering</td>\n",
       "    </tr>\n",
       "    <tr>\n",
       "      <th>3</th>\n",
       "      <td>20</td>\n",
       "      <td>Computer Science and Engineering (Specializati...</td>\n",
       "      <td>B.Tech in Computer Science and Engineering (Sp...</td>\n",
       "      <td>Bachelor of Technology</td>\n",
       "      <td>B.Tech</td>\n",
       "      <td>Engineering</td>\n",
       "    </tr>\n",
       "    <tr>\n",
       "      <th>4</th>\n",
       "      <td>20</td>\n",
       "      <td>Computer Science and Engineering (Specializati...</td>\n",
       "      <td>B.Tech in Computer Science and Engineering wit...</td>\n",
       "      <td>Bachelor of Technology</td>\n",
       "      <td>B.Tech</td>\n",
       "      <td>Engineering</td>\n",
       "    </tr>\n",
       "  </tbody>\n",
       "</table>\n",
       "</div>"
      ]
     },
     "execution_count": 10,
     "metadata": {},
     "output_type": "execute_result"
    }
   ],
   "execution_count": 10
  },
  {
   "metadata": {},
   "cell_type": "markdown",
   "source": "",
   "id": "39d5863515a4df48"
  },
  {
   "metadata": {
    "ExecuteTime": {
     "end_time": "2025-03-18T09:48:29.975841Z",
     "start_time": "2025-03-18T09:48:29.972795Z"
    }
   },
   "cell_type": "code",
   "source": [
    "def concat_series(series):\n",
    "    return ', '.join(sorted(set(series.dropna().astype(str).str.strip())))"
   ],
   "id": "430dddaf8a2f7dcb",
   "outputs": [],
   "execution_count": 11
  },
  {
   "metadata": {
    "ExecuteTime": {
     "end_time": "2025-03-18T09:48:29.982203Z",
     "start_time": "2025-03-18T09:48:29.976980Z"
    }
   },
   "cell_type": "code",
   "source": "df[\"course_description\"].isna().sum()",
   "id": "89b2c4503341f83d",
   "outputs": [
    {
     "data": {
      "text/plain": [
       "np.int64(11)"
      ]
     },
     "execution_count": 12,
     "metadata": {},
     "output_type": "execute_result"
    }
   ],
   "execution_count": 12
  },
  {
   "metadata": {
    "ExecuteTime": {
     "end_time": "2025-03-18T09:48:46.287087Z",
     "start_time": "2025-03-18T09:48:29.983460Z"
    }
   },
   "cell_type": "code",
   "source": [
    "df_grouped = df.groupby([\"id\",\"course_name\"]).agg({\n",
    "        \"course_description\":concat_series,\n",
    "        \"degree_description\":concat_series,\n",
    "        \"degree_name\":concat_series,\n",
    "        \"stream_name\":concat_series,\n",
    "    })"
   ],
   "id": "b89c2daf39c94f3d",
   "outputs": [],
   "execution_count": 13
  },
  {
   "metadata": {
    "ExecuteTime": {
     "end_time": "2025-03-18T09:48:46.292942Z",
     "start_time": "2025-03-18T09:48:46.288093Z"
    }
   },
   "cell_type": "code",
   "source": "df_grouped[\"degree_name\"].iloc[0]\n",
   "id": "67caab4cbc47be10",
   "outputs": [
    {
     "data": {
      "text/plain": [
       "'B.Com'"
      ]
     },
     "execution_count": 14,
     "metadata": {},
     "output_type": "execute_result"
    }
   ],
   "execution_count": 14
  },
  {
   "metadata": {
    "ExecuteTime": {
     "end_time": "2025-03-18T09:48:46.300451Z",
     "start_time": "2025-03-18T09:48:46.293946Z"
    }
   },
   "cell_type": "code",
   "source": "df_grouped = df_grouped.reset_index()",
   "id": "5fbf44eb9fb5bb43",
   "outputs": [],
   "execution_count": 15
  },
  {
   "metadata": {
    "ExecuteTime": {
     "end_time": "2025-03-18T09:48:46.307926Z",
     "start_time": "2025-03-18T09:48:46.301456Z"
    }
   },
   "cell_type": "code",
   "source": "df_grouped[[\"degree_name\",\"degree_description\",\"course_name\", \"stream_name\"]].loc[0]",
   "id": "aa878c4d73d90d10",
   "outputs": [
    {
     "data": {
      "text/plain": [
       "degree_name                            B.Com\n",
       "degree_description      Bachelor of Commerce\n",
       "course_name           Accounting and Finance\n",
       "stream_name                         Commerce\n",
       "Name: 0, dtype: object"
      ]
     },
     "execution_count": 16,
     "metadata": {},
     "output_type": "execute_result"
    }
   ],
   "execution_count": 16
  },
  {
   "metadata": {
    "ExecuteTime": {
     "end_time": "2025-03-18T09:48:46.318468Z",
     "start_time": "2025-03-18T09:48:46.308933Z"
    }
   },
   "cell_type": "code",
   "source": "df_grouped.info()",
   "id": "864778555732609a",
   "outputs": [
    {
     "name": "stdout",
     "output_type": "stream",
     "text": [
      "<class 'pandas.core.frame.DataFrame'>\n",
      "RangeIndex: 24781 entries, 0 to 24780\n",
      "Data columns (total 6 columns):\n",
      " #   Column              Non-Null Count  Dtype \n",
      "---  ------              --------------  ----- \n",
      " 0   id                  24781 non-null  int64 \n",
      " 1   course_name         24781 non-null  object\n",
      " 2   course_description  24781 non-null  object\n",
      " 3   degree_description  24781 non-null  object\n",
      " 4   degree_name         24781 non-null  object\n",
      " 5   stream_name         24781 non-null  object\n",
      "dtypes: int64(1), object(5)\n",
      "memory usage: 1.1+ MB\n"
     ]
    }
   ],
   "execution_count": 17
  },
  {
   "metadata": {
    "ExecuteTime": {
     "end_time": "2025-03-18T09:48:46.323313Z",
     "start_time": "2025-03-18T09:48:46.319985Z"
    }
   },
   "cell_type": "code",
   "source": "df_grouped.columns = [\"id\",\"course_names\",\"all_course_descriptions\",\"all_degree_descriptions\",\"all_stream_names\",\"all_degree_names\"]",
   "id": "dafcab935727d318",
   "outputs": [],
   "execution_count": 18
  },
  {
   "metadata": {
    "ExecuteTime": {
     "end_time": "2025-03-18T09:48:46.332057Z",
     "start_time": "2025-03-18T09:48:46.324319Z"
    }
   },
   "cell_type": "code",
   "source": "df_grouped.head()\n",
   "id": "9530fab310de0c68",
   "outputs": [
    {
     "data": {
      "text/plain": [
       "   id             course_names  \\\n",
       "0   1   Accounting and Finance   \n",
       "1   1             Biochemistry   \n",
       "2   1  Business Administration   \n",
       "3   1    Computer Applications   \n",
       "4   1         Computer Science   \n",
       "\n",
       "                             all_course_descriptions  \\\n",
       "0  Bachelor of Commerce (BCom) degree with a focu...   \n",
       "1  Bachelor of Science (BSc) in Biochemistry prov...   \n",
       "2  Bachelor of Business Administration (BBA) in B...   \n",
       "3  Bachelor of Commerce (BCom) program with a spe...   \n",
       "4  Bachelor of Science (BSc) in Computer Science ...   \n",
       "\n",
       "                             all_degree_descriptions all_stream_names  \\\n",
       "0                               Bachelor of Commerce            B.Com   \n",
       "1                Bachelor of Science (3years) - B.Sc             B.Sc   \n",
       "2                Bachelor of Business Administration              BBA   \n",
       "3  Bachelor of Commerce, Bachelor of Computer App...       B.Com, BCA   \n",
       "4                Bachelor of Science (3years) - B.Sc             B.Sc   \n",
       "\n",
       "    all_degree_names  \n",
       "0           Commerce  \n",
       "1            Science  \n",
       "2         Management  \n",
       "3  Commerce, Science  \n",
       "4            Science  "
      ],
      "text/html": [
       "<div>\n",
       "<style scoped>\n",
       "    .dataframe tbody tr th:only-of-type {\n",
       "        vertical-align: middle;\n",
       "    }\n",
       "\n",
       "    .dataframe tbody tr th {\n",
       "        vertical-align: top;\n",
       "    }\n",
       "\n",
       "    .dataframe thead th {\n",
       "        text-align: right;\n",
       "    }\n",
       "</style>\n",
       "<table border=\"1\" class=\"dataframe\">\n",
       "  <thead>\n",
       "    <tr style=\"text-align: right;\">\n",
       "      <th></th>\n",
       "      <th>id</th>\n",
       "      <th>course_names</th>\n",
       "      <th>all_course_descriptions</th>\n",
       "      <th>all_degree_descriptions</th>\n",
       "      <th>all_stream_names</th>\n",
       "      <th>all_degree_names</th>\n",
       "    </tr>\n",
       "  </thead>\n",
       "  <tbody>\n",
       "    <tr>\n",
       "      <th>0</th>\n",
       "      <td>1</td>\n",
       "      <td>Accounting and Finance</td>\n",
       "      <td>Bachelor of Commerce (BCom) degree with a focu...</td>\n",
       "      <td>Bachelor of Commerce</td>\n",
       "      <td>B.Com</td>\n",
       "      <td>Commerce</td>\n",
       "    </tr>\n",
       "    <tr>\n",
       "      <th>1</th>\n",
       "      <td>1</td>\n",
       "      <td>Biochemistry</td>\n",
       "      <td>Bachelor of Science (BSc) in Biochemistry prov...</td>\n",
       "      <td>Bachelor of Science (3years) - B.Sc</td>\n",
       "      <td>B.Sc</td>\n",
       "      <td>Science</td>\n",
       "    </tr>\n",
       "    <tr>\n",
       "      <th>2</th>\n",
       "      <td>1</td>\n",
       "      <td>Business Administration</td>\n",
       "      <td>Bachelor of Business Administration (BBA) in B...</td>\n",
       "      <td>Bachelor of Business Administration</td>\n",
       "      <td>BBA</td>\n",
       "      <td>Management</td>\n",
       "    </tr>\n",
       "    <tr>\n",
       "      <th>3</th>\n",
       "      <td>1</td>\n",
       "      <td>Computer Applications</td>\n",
       "      <td>Bachelor of Commerce (BCom) program with a spe...</td>\n",
       "      <td>Bachelor of Commerce, Bachelor of Computer App...</td>\n",
       "      <td>B.Com, BCA</td>\n",
       "      <td>Commerce, Science</td>\n",
       "    </tr>\n",
       "    <tr>\n",
       "      <th>4</th>\n",
       "      <td>1</td>\n",
       "      <td>Computer Science</td>\n",
       "      <td>Bachelor of Science (BSc) in Computer Science ...</td>\n",
       "      <td>Bachelor of Science (3years) - B.Sc</td>\n",
       "      <td>B.Sc</td>\n",
       "      <td>Science</td>\n",
       "    </tr>\n",
       "  </tbody>\n",
       "</table>\n",
       "</div>"
      ]
     },
     "execution_count": 19,
     "metadata": {},
     "output_type": "execute_result"
    }
   ],
   "execution_count": 19
  },
  {
   "metadata": {
    "ExecuteTime": {
     "end_time": "2025-03-18T09:48:46.550534Z",
     "start_time": "2025-03-18T09:48:46.332569Z"
    }
   },
   "cell_type": "code",
   "source": "df_grouped.to_csv(\"../DataSets/processed/course_content_based_data_after_eda.csv\",sep=\";\",header=True,index=False)",
   "id": "2c7d1e9499ca74d8",
   "outputs": [],
   "execution_count": 20
  }
 ],
 "metadata": {
  "kernelspec": {
   "display_name": "Python 3",
   "language": "python",
   "name": "python3"
  },
  "language_info": {
   "codemirror_mode": {
    "name": "ipython",
    "version": 2
   },
   "file_extension": ".py",
   "mimetype": "text/x-python",
   "name": "python",
   "nbconvert_exporter": "python",
   "pygments_lexer": "ipython2",
   "version": "2.7.6"
  }
 },
 "nbformat": 4,
 "nbformat_minor": 5
}
